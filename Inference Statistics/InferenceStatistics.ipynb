{
  "nbformat": 4,
  "nbformat_minor": 0,
  "metadata": {
    "colab": {
      "provenance": [],
      "collapsed_sections": [
        "NJJiDalk7t8T",
        "WkpdWQOA-RKU",
        "9GzJzLOl_P35",
        "xz_oWvlUCA0W",
        "oliQrAY9lCye",
        "a-FYFIDWliAt"
      ]
    },
    "kernelspec": {
      "name": "python3",
      "display_name": "Python 3"
    },
    "language_info": {
      "name": "python"
    }
  },
  "cells": [
    {
      "cell_type": "markdown",
      "source": [
        "# Inference Statistics\n",
        "## Faraz Ali - fa06396@st.habib.edu.pk"
      ],
      "metadata": {
        "id": "i4OAp0Y1od8V"
      }
    },
    {
      "cell_type": "code",
      "execution_count": null,
      "metadata": {
        "id": "vkNXrZ70wh1R"
      },
      "outputs": [],
      "source": [
        "import pandas as pd\n",
        "import numpy as np\n",
        "from scipy import stats"
      ]
    },
    {
      "cell_type": "code",
      "source": [
        "df = pd.read_csv('EmployeeAttrition.csv')"
      ],
      "metadata": {
        "id": "Zwk5Cy_i453O"
      },
      "execution_count": null,
      "outputs": []
    },
    {
      "cell_type": "markdown",
      "source": [
        "### Q1\n",
        "\n",
        "H0 = MonthlyIncome of Males is equal to Females\n",
        "\n",
        "H1 = MonthlyIncome of Males is greater than Females\n"
      ],
      "metadata": {
        "id": "NJJiDalk7t8T"
      }
    },
    {
      "cell_type": "code",
      "source": [
        "male = df[(df['Gender']=='Male')]['MonthlyIncome']\n",
        "female = df[(df['Gender']=='Female')]['MonthlyIncome']\n",
        "stats.ttest_ind(male, female, alternative=\"greater\")"
      ],
      "metadata": {
        "colab": {
          "base_uri": "https://localhost:8080/"
        },
        "id": "0yVQRYe44-kd",
        "outputId": "fe63a57f-c83d-496b-b4a3-ca682e0d0820"
      },
      "execution_count": null,
      "outputs": [
        {
          "output_type": "execute_result",
          "data": {
            "text/plain": [
              "Ttest_indResult(statistic=-1.2212617308870655, pvalue=0.8889084827245606)"
            ]
          },
          "metadata": {},
          "execution_count": 9
        }
      ]
    },
    {
      "cell_type": "markdown",
      "source": [
        "Since the pvalue is greater than 0.05, we should stick with the null hypothesis that the monthly income of both genders are similar. If, pvalue would have been less than 0.05, it would suggest that mean income of males is greater than that of mean incomes of females."
      ],
      "metadata": {
        "id": "D9h8YkwK9kW9"
      }
    },
    {
      "cell_type": "markdown",
      "source": [
        "### Q2\n",
        "\n",
        "H0 = WorkLifeBalance of Males is similar to Females\n",
        "\n",
        "H1 = WorkLifeBalance of Males is less than Females"
      ],
      "metadata": {
        "id": "WkpdWQOA-RKU"
      }
    },
    {
      "cell_type": "code",
      "source": [
        "male1 = df[(df['Gender']=='Male')]['WorkLifeBalance']\n",
        "female1 = df[(df['Gender']=='Female')]['WorkLifeBalance']\n",
        "stats.ttest_ind(male1, female1, alternative='less')"
      ],
      "metadata": {
        "colab": {
          "base_uri": "https://localhost:8080/"
        },
        "id": "hoo_PvVx95FS",
        "outputId": "abfc16e0-c7d2-4d2e-8979-9a1ae096e916"
      },
      "execution_count": null,
      "outputs": [
        {
          "output_type": "execute_result",
          "data": {
            "text/plain": [
              "Ttest_indResult(statistic=-0.10546787956064164, pvalue=0.45800948246831286)"
            ]
          },
          "metadata": {},
          "execution_count": 10
        }
      ]
    },
    {
      "cell_type": "markdown",
      "source": [
        "Since the pvalue is again greater than 0.05, we have to stick with the Null hypothesis that suggest that the work life balance is similar for both genders. If the pvalue would have been less than 0.05, it would have suggested that the work life balance of females is greater than males."
      ],
      "metadata": {
        "id": "QU4wuWuM-9yY"
      }
    },
    {
      "cell_type": "markdown",
      "source": [
        "### Q3\n",
        "\n",
        "H0 = YearsAtCompany of Single is similar to Married\n",
        "\n",
        "H1 = YearsAtCompany of Single is less than Married"
      ],
      "metadata": {
        "id": "9GzJzLOl_P35"
      }
    },
    {
      "cell_type": "code",
      "source": [
        "single = df[(df['MaritalStatus']=='Single')]['YearsAtCompany']\n",
        "married = df[(df['MaritalStatus']=='Married')]['YearsAtCompany']\n",
        "stats.ttest_ind(married, single, alternative='greater')"
      ],
      "metadata": {
        "colab": {
          "base_uri": "https://localhost:8080/"
        },
        "id": "F4buOB-m-q8m",
        "outputId": "1af34f28-efe3-4729-aa9c-3a6f0963153e"
      },
      "execution_count": null,
      "outputs": [
        {
          "output_type": "execute_result",
          "data": {
            "text/plain": [
              "Ttest_indResult(statistic=2.5589985737464476, pvalue=0.0053127663549315815)"
            ]
          },
          "metadata": {},
          "execution_count": 11
        }
      ]
    },
    {
      "cell_type": "markdown",
      "source": [
        "Since the pvalue is almost equal to 0.05, the result can be interpreted in either direction. I would suggest that this is  against the Null hypothesis and suggests that the mean of YearsAtCompany for employees having MaritialStatus = Single is less than that of Married."
      ],
      "metadata": {
        "id": "js7Kkyz2_wNi"
      }
    },
    {
      "cell_type": "markdown",
      "source": [
        "### Q4\n",
        "\n",
        "H0 = EnvironmentalSatisfaction of Attrition=Yes is Similar than Attrition=No\n",
        "\n",
        "H1 = EnvironmentalSatisfaction of Attrition=Yes is less than Attrition=No"
      ],
      "metadata": {
        "id": "xz_oWvlUCA0W"
      }
    },
    {
      "cell_type": "code",
      "source": [
        "yes = df[(df['Attrition']=='Yes')]['EnvironmentSatisfaction']\n",
        "no = df[(df['Attrition']=='No')]['EnvironmentSatisfaction']\n",
        "stats.ttest_ind(yes, no, alternative='less')"
      ],
      "metadata": {
        "colab": {
          "base_uri": "https://localhost:8080/"
        },
        "id": "A835SXFC_rsp",
        "outputId": "d08a937c-df8e-468d-9407-64e00d445239"
      },
      "execution_count": null,
      "outputs": [
        {
          "output_type": "execute_result",
          "data": {
            "text/plain": [
              "Ttest_indResult(statistic=-3.9818600026818496, pvalue=3.58616927468443e-05)"
            ]
          },
          "metadata": {},
          "execution_count": 12
        }
      ]
    },
    {
      "cell_type": "markdown",
      "source": [
        "Since the pvalue is less than 0.05, we reject the null hypothesis, i.e. Environment Satisfaction for employees with attrition with yes is similar to those with attrition no. Instead we know that they are not similar, and that employees with attrition = yes have less Environment Satisfaction."
      ],
      "metadata": {
        "id": "47wHV8SHn33i"
      }
    },
    {
      "cell_type": "markdown",
      "source": [
        "### Q5\n",
        "\n",
        "H0 = MonthlyIncome of Manager is similar to Laboratory Technician\n",
        "\n",
        "H1 = MonthlyIncome of Manager is greater than Laboratory Technician"
      ],
      "metadata": {
        "id": "oliQrAY9lCye"
      }
    },
    {
      "cell_type": "code",
      "source": [
        "Manager = df[(df['JobRole'] == 'Manager')]['MonthlyIncome']\n",
        "Technician = df[(df['JobRole'] == 'Laboratory Technician')]['MonthlyIncome']\n",
        "stats.ttest_ind(Manager, Technician, alternative='greater')"
      ],
      "metadata": {
        "colab": {
          "base_uri": "https://localhost:8080/"
        },
        "id": "UXdUZaCfCV39",
        "outputId": "f1cace0c-6a0d-4e5f-8f47-cafdb094e567"
      },
      "execution_count": null,
      "outputs": [
        {
          "output_type": "execute_result",
          "data": {
            "text/plain": [
              "Ttest_indResult(statistic=76.03317414634023, pvalue=9.971168334368433e-224)"
            ]
          },
          "metadata": {},
          "execution_count": 13
        }
      ]
    },
    {
      "cell_type": "markdown",
      "source": [
        "Since the pvalue is way les than 0.05, it strongly suggests that there is a great difference in the monthly incomes of the two roles i.e. Manager and Technician. Hence, we reject the Null hypothesis, and accept the alternative hypothesis."
      ],
      "metadata": {
        "id": "g5zHEtjplMuF"
      }
    },
    {
      "cell_type": "markdown",
      "source": [
        "### Q6\n",
        "\n",
        "H0 = There is no association between the Department and Gender\n",
        "\n",
        "H1 = There is association between the Department and Gender"
      ],
      "metadata": {
        "id": "a-FYFIDWliAt"
      }
    },
    {
      "cell_type": "code",
      "source": [
        "chisqt = pd.crosstab(df['Department'], df['Gender'], margins=True)\n",
        "value = np.array([chisqt.iloc[0][0:].values, chisqt.iloc[1][0:].values])\n",
        "chi2, p, dof, ex = stats.chi2_contingency(value)\n",
        "p"
      ],
      "metadata": {
        "colab": {
          "base_uri": "https://localhost:8080/"
        },
        "id": "UEM72XeAk-S6",
        "outputId": "e36a3edc-d0d1-426e-cd0c-0d8756721465"
      },
      "execution_count": null,
      "outputs": [
        {
          "output_type": "execute_result",
          "data": {
            "text/plain": [
              "0.47927963769548776"
            ]
          },
          "metadata": {},
          "execution_count": 8
        }
      ]
    },
    {
      "cell_type": "markdown",
      "source": [
        "Since the pvalue is greater than 0.05, we go with the Null hypothesis that the two fields, Department and Gender are independent and have no strong association with each other."
      ],
      "metadata": {
        "id": "3J622GsImBPN"
      }
    }
  ]
}