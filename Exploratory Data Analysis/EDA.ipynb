{
  "nbformat": 4,
  "nbformat_minor": 0,
  "metadata": {
    "colab": {
      "provenance": []
    },
    "kernelspec": {
      "name": "python3",
      "display_name": "Python 3"
    },
    "language_info": {
      "name": "python"
    }
  },
  "cells": [
    {
      "cell_type": "markdown",
      "source": [
        "# EDA\n",
        "## Faraz Ali - fa06396@st.habib.edu.pk"
      ],
      "metadata": {
        "id": "yopctOVvKMzR"
      }
    },
    {
      "cell_type": "code",
      "execution_count": null,
      "metadata": {
        "id": "lRzirBv3_omf"
      },
      "outputs": [],
      "source": [
        "import pandas as pd\n",
        "import numpy as np\n",
        "import random"
      ]
    },
    {
      "cell_type": "code",
      "source": [
        "data = pd.read_csv('loan_small.csv')"
      ],
      "metadata": {
        "id": "jXzTm-hVH3Wx"
      },
      "execution_count": null,
      "outputs": []
    },
    {
      "cell_type": "code",
      "source": [
        "data"
      ],
      "metadata": {
        "colab": {
          "base_uri": "https://localhost:8080/",
          "height": 661
        },
        "id": "5flbpl_7H5o_",
        "outputId": "3264c56a-2347-46cf-b6de-8561f99dec1e"
      },
      "execution_count": null,
      "outputs": [
        {
          "output_type": "execute_result",
          "data": {
            "text/plain": [
              "          id  member_id  loan_amnt  funded_amnt  funded_amnt_inv        term  \\\n",
              "0    1077501    1296599       5000         5000       4975.00000   36 months   \n",
              "1    1077430    1314167       2500         2500       2500.00000   60 months   \n",
              "2    1077175    1313524       2400         2400       2400.00000   36 months   \n",
              "3    1076863    1277178      10000        10000      10000.00000   36 months   \n",
              "4    1075358    1311748       3000         3000       3000.00000   60 months   \n",
              "..       ...        ...        ...          ...              ...         ...   \n",
              "994  1057818    1289186       7000         7000       7000.00000   36 months   \n",
              "995  1057629    1289394       2425         2425       2425.00000   36 months   \n",
              "996  1057621    1289385       6950         6950       6950.00000   36 months   \n",
              "997  1057787    1289153      12375        12375      12344.46478   36 months   \n",
              "998  1057770    1289135      35000        35000      33906.19420   60 months   \n",
              "\n",
              "     int_rate  installment grade sub_grade  ... total_pymnt_inv  \\\n",
              "0       10.65       162.87     B        B2  ...         5831.78   \n",
              "1       15.27        59.83     C        C4  ...         1008.71   \n",
              "2       15.96        84.33     C        C5  ...         3003.65   \n",
              "3       13.49       339.31     C        C1  ...        12226.30   \n",
              "4       12.69        67.79     B        B5  ...         3242.17   \n",
              "..        ...          ...   ...       ...  ...             ...   \n",
              "994      8.90       222.28     A        A5  ...         8000.34   \n",
              "995     15.27        84.39     C        C4  ...         3052.79   \n",
              "996      9.91       223.97     B        B1  ...         7349.48   \n",
              "997      9.91       398.79     B        B1  ...        13399.63   \n",
              "998     20.30       933.14     E        E5  ...        42066.82   \n",
              "\n",
              "    total_rec_prncp total_rec_int  total_rec_late_fee recoveries  \\\n",
              "0           5000.00        861.07                0.00       0.00   \n",
              "1            456.46        435.17                0.00     117.08   \n",
              "2           2400.00        603.65                0.00       0.00   \n",
              "3          10000.00       2209.33               16.97       0.00   \n",
              "4           2233.10       1009.07                0.00       0.00   \n",
              "..              ...           ...                 ...        ...   \n",
              "994         7000.00       1000.34                0.00       0.00   \n",
              "995         2424.99        612.80               15.00       0.00   \n",
              "996         6950.01        399.47                0.00       0.00   \n",
              "997        12375.01       1058.95                0.00       0.00   \n",
              "998        24930.60      19834.12                0.00       0.00   \n",
              "\n",
              "    collection_recovery_fee last_pymnt_d last_pymnt_amnt last_credit_pull_d  \\\n",
              "0                      0.00       Jan-15          171.62             Jan-16   \n",
              "1                      1.11       Apr-13          119.66             Sep-13   \n",
              "2                      0.00       Jun-14          649.91             Jan-16   \n",
              "3                      0.00       Jan-15          357.48             Jan-15   \n",
              "4                      0.00       Jan-16           67.79             Jan-16   \n",
              "..                      ...          ...             ...                ...   \n",
              "994                    0.00       Dec-14          229.64             Dec-14   \n",
              "995                    0.00       Jan-15           16.06             Jul-15   \n",
              "996                    0.00       Sep-12         1560.92             Apr-14   \n",
              "997                    0.00       Dec-12         9056.48             Jan-16   \n",
              "998                    0.00       Jan-16          933.14             Jan-16   \n",
              "\n",
              "    application_type  \n",
              "0         INDIVIDUAL  \n",
              "1         INDIVIDUAL  \n",
              "2         INDIVIDUAL  \n",
              "3         INDIVIDUAL  \n",
              "4         INDIVIDUAL  \n",
              "..               ...  \n",
              "994       INDIVIDUAL  \n",
              "995       INDIVIDUAL  \n",
              "996       INDIVIDUAL  \n",
              "997       INDIVIDUAL  \n",
              "998       INDIVIDUAL  \n",
              "\n",
              "[999 rows x 47 columns]"
            ],
            "text/html": [
              "\n",
              "  <div id=\"df-87a4cc15-5a07-4178-bba1-2c740e546caf\">\n",
              "    <div class=\"colab-df-container\">\n",
              "      <div>\n",
              "<style scoped>\n",
              "    .dataframe tbody tr th:only-of-type {\n",
              "        vertical-align: middle;\n",
              "    }\n",
              "\n",
              "    .dataframe tbody tr th {\n",
              "        vertical-align: top;\n",
              "    }\n",
              "\n",
              "    .dataframe thead th {\n",
              "        text-align: right;\n",
              "    }\n",
              "</style>\n",
              "<table border=\"1\" class=\"dataframe\">\n",
              "  <thead>\n",
              "    <tr style=\"text-align: right;\">\n",
              "      <th></th>\n",
              "      <th>id</th>\n",
              "      <th>member_id</th>\n",
              "      <th>loan_amnt</th>\n",
              "      <th>funded_amnt</th>\n",
              "      <th>funded_amnt_inv</th>\n",
              "      <th>term</th>\n",
              "      <th>int_rate</th>\n",
              "      <th>installment</th>\n",
              "      <th>grade</th>\n",
              "      <th>sub_grade</th>\n",
              "      <th>...</th>\n",
              "      <th>total_pymnt_inv</th>\n",
              "      <th>total_rec_prncp</th>\n",
              "      <th>total_rec_int</th>\n",
              "      <th>total_rec_late_fee</th>\n",
              "      <th>recoveries</th>\n",
              "      <th>collection_recovery_fee</th>\n",
              "      <th>last_pymnt_d</th>\n",
              "      <th>last_pymnt_amnt</th>\n",
              "      <th>last_credit_pull_d</th>\n",
              "      <th>application_type</th>\n",
              "    </tr>\n",
              "  </thead>\n",
              "  <tbody>\n",
              "    <tr>\n",
              "      <th>0</th>\n",
              "      <td>1077501</td>\n",
              "      <td>1296599</td>\n",
              "      <td>5000</td>\n",
              "      <td>5000</td>\n",
              "      <td>4975.00000</td>\n",
              "      <td>36 months</td>\n",
              "      <td>10.65</td>\n",
              "      <td>162.87</td>\n",
              "      <td>B</td>\n",
              "      <td>B2</td>\n",
              "      <td>...</td>\n",
              "      <td>5831.78</td>\n",
              "      <td>5000.00</td>\n",
              "      <td>861.07</td>\n",
              "      <td>0.00</td>\n",
              "      <td>0.00</td>\n",
              "      <td>0.00</td>\n",
              "      <td>Jan-15</td>\n",
              "      <td>171.62</td>\n",
              "      <td>Jan-16</td>\n",
              "      <td>INDIVIDUAL</td>\n",
              "    </tr>\n",
              "    <tr>\n",
              "      <th>1</th>\n",
              "      <td>1077430</td>\n",
              "      <td>1314167</td>\n",
              "      <td>2500</td>\n",
              "      <td>2500</td>\n",
              "      <td>2500.00000</td>\n",
              "      <td>60 months</td>\n",
              "      <td>15.27</td>\n",
              "      <td>59.83</td>\n",
              "      <td>C</td>\n",
              "      <td>C4</td>\n",
              "      <td>...</td>\n",
              "      <td>1008.71</td>\n",
              "      <td>456.46</td>\n",
              "      <td>435.17</td>\n",
              "      <td>0.00</td>\n",
              "      <td>117.08</td>\n",
              "      <td>1.11</td>\n",
              "      <td>Apr-13</td>\n",
              "      <td>119.66</td>\n",
              "      <td>Sep-13</td>\n",
              "      <td>INDIVIDUAL</td>\n",
              "    </tr>\n",
              "    <tr>\n",
              "      <th>2</th>\n",
              "      <td>1077175</td>\n",
              "      <td>1313524</td>\n",
              "      <td>2400</td>\n",
              "      <td>2400</td>\n",
              "      <td>2400.00000</td>\n",
              "      <td>36 months</td>\n",
              "      <td>15.96</td>\n",
              "      <td>84.33</td>\n",
              "      <td>C</td>\n",
              "      <td>C5</td>\n",
              "      <td>...</td>\n",
              "      <td>3003.65</td>\n",
              "      <td>2400.00</td>\n",
              "      <td>603.65</td>\n",
              "      <td>0.00</td>\n",
              "      <td>0.00</td>\n",
              "      <td>0.00</td>\n",
              "      <td>Jun-14</td>\n",
              "      <td>649.91</td>\n",
              "      <td>Jan-16</td>\n",
              "      <td>INDIVIDUAL</td>\n",
              "    </tr>\n",
              "    <tr>\n",
              "      <th>3</th>\n",
              "      <td>1076863</td>\n",
              "      <td>1277178</td>\n",
              "      <td>10000</td>\n",
              "      <td>10000</td>\n",
              "      <td>10000.00000</td>\n",
              "      <td>36 months</td>\n",
              "      <td>13.49</td>\n",
              "      <td>339.31</td>\n",
              "      <td>C</td>\n",
              "      <td>C1</td>\n",
              "      <td>...</td>\n",
              "      <td>12226.30</td>\n",
              "      <td>10000.00</td>\n",
              "      <td>2209.33</td>\n",
              "      <td>16.97</td>\n",
              "      <td>0.00</td>\n",
              "      <td>0.00</td>\n",
              "      <td>Jan-15</td>\n",
              "      <td>357.48</td>\n",
              "      <td>Jan-15</td>\n",
              "      <td>INDIVIDUAL</td>\n",
              "    </tr>\n",
              "    <tr>\n",
              "      <th>4</th>\n",
              "      <td>1075358</td>\n",
              "      <td>1311748</td>\n",
              "      <td>3000</td>\n",
              "      <td>3000</td>\n",
              "      <td>3000.00000</td>\n",
              "      <td>60 months</td>\n",
              "      <td>12.69</td>\n",
              "      <td>67.79</td>\n",
              "      <td>B</td>\n",
              "      <td>B5</td>\n",
              "      <td>...</td>\n",
              "      <td>3242.17</td>\n",
              "      <td>2233.10</td>\n",
              "      <td>1009.07</td>\n",
              "      <td>0.00</td>\n",
              "      <td>0.00</td>\n",
              "      <td>0.00</td>\n",
              "      <td>Jan-16</td>\n",
              "      <td>67.79</td>\n",
              "      <td>Jan-16</td>\n",
              "      <td>INDIVIDUAL</td>\n",
              "    </tr>\n",
              "    <tr>\n",
              "      <th>...</th>\n",
              "      <td>...</td>\n",
              "      <td>...</td>\n",
              "      <td>...</td>\n",
              "      <td>...</td>\n",
              "      <td>...</td>\n",
              "      <td>...</td>\n",
              "      <td>...</td>\n",
              "      <td>...</td>\n",
              "      <td>...</td>\n",
              "      <td>...</td>\n",
              "      <td>...</td>\n",
              "      <td>...</td>\n",
              "      <td>...</td>\n",
              "      <td>...</td>\n",
              "      <td>...</td>\n",
              "      <td>...</td>\n",
              "      <td>...</td>\n",
              "      <td>...</td>\n",
              "      <td>...</td>\n",
              "      <td>...</td>\n",
              "      <td>...</td>\n",
              "    </tr>\n",
              "    <tr>\n",
              "      <th>994</th>\n",
              "      <td>1057818</td>\n",
              "      <td>1289186</td>\n",
              "      <td>7000</td>\n",
              "      <td>7000</td>\n",
              "      <td>7000.00000</td>\n",
              "      <td>36 months</td>\n",
              "      <td>8.90</td>\n",
              "      <td>222.28</td>\n",
              "      <td>A</td>\n",
              "      <td>A5</td>\n",
              "      <td>...</td>\n",
              "      <td>8000.34</td>\n",
              "      <td>7000.00</td>\n",
              "      <td>1000.34</td>\n",
              "      <td>0.00</td>\n",
              "      <td>0.00</td>\n",
              "      <td>0.00</td>\n",
              "      <td>Dec-14</td>\n",
              "      <td>229.64</td>\n",
              "      <td>Dec-14</td>\n",
              "      <td>INDIVIDUAL</td>\n",
              "    </tr>\n",
              "    <tr>\n",
              "      <th>995</th>\n",
              "      <td>1057629</td>\n",
              "      <td>1289394</td>\n",
              "      <td>2425</td>\n",
              "      <td>2425</td>\n",
              "      <td>2425.00000</td>\n",
              "      <td>36 months</td>\n",
              "      <td>15.27</td>\n",
              "      <td>84.39</td>\n",
              "      <td>C</td>\n",
              "      <td>C4</td>\n",
              "      <td>...</td>\n",
              "      <td>3052.79</td>\n",
              "      <td>2424.99</td>\n",
              "      <td>612.80</td>\n",
              "      <td>15.00</td>\n",
              "      <td>0.00</td>\n",
              "      <td>0.00</td>\n",
              "      <td>Jan-15</td>\n",
              "      <td>16.06</td>\n",
              "      <td>Jul-15</td>\n",
              "      <td>INDIVIDUAL</td>\n",
              "    </tr>\n",
              "    <tr>\n",
              "      <th>996</th>\n",
              "      <td>1057621</td>\n",
              "      <td>1289385</td>\n",
              "      <td>6950</td>\n",
              "      <td>6950</td>\n",
              "      <td>6950.00000</td>\n",
              "      <td>36 months</td>\n",
              "      <td>9.91</td>\n",
              "      <td>223.97</td>\n",
              "      <td>B</td>\n",
              "      <td>B1</td>\n",
              "      <td>...</td>\n",
              "      <td>7349.48</td>\n",
              "      <td>6950.01</td>\n",
              "      <td>399.47</td>\n",
              "      <td>0.00</td>\n",
              "      <td>0.00</td>\n",
              "      <td>0.00</td>\n",
              "      <td>Sep-12</td>\n",
              "      <td>1560.92</td>\n",
              "      <td>Apr-14</td>\n",
              "      <td>INDIVIDUAL</td>\n",
              "    </tr>\n",
              "    <tr>\n",
              "      <th>997</th>\n",
              "      <td>1057787</td>\n",
              "      <td>1289153</td>\n",
              "      <td>12375</td>\n",
              "      <td>12375</td>\n",
              "      <td>12344.46478</td>\n",
              "      <td>36 months</td>\n",
              "      <td>9.91</td>\n",
              "      <td>398.79</td>\n",
              "      <td>B</td>\n",
              "      <td>B1</td>\n",
              "      <td>...</td>\n",
              "      <td>13399.63</td>\n",
              "      <td>12375.01</td>\n",
              "      <td>1058.95</td>\n",
              "      <td>0.00</td>\n",
              "      <td>0.00</td>\n",
              "      <td>0.00</td>\n",
              "      <td>Dec-12</td>\n",
              "      <td>9056.48</td>\n",
              "      <td>Jan-16</td>\n",
              "      <td>INDIVIDUAL</td>\n",
              "    </tr>\n",
              "    <tr>\n",
              "      <th>998</th>\n",
              "      <td>1057770</td>\n",
              "      <td>1289135</td>\n",
              "      <td>35000</td>\n",
              "      <td>35000</td>\n",
              "      <td>33906.19420</td>\n",
              "      <td>60 months</td>\n",
              "      <td>20.30</td>\n",
              "      <td>933.14</td>\n",
              "      <td>E</td>\n",
              "      <td>E5</td>\n",
              "      <td>...</td>\n",
              "      <td>42066.82</td>\n",
              "      <td>24930.60</td>\n",
              "      <td>19834.12</td>\n",
              "      <td>0.00</td>\n",
              "      <td>0.00</td>\n",
              "      <td>0.00</td>\n",
              "      <td>Jan-16</td>\n",
              "      <td>933.14</td>\n",
              "      <td>Jan-16</td>\n",
              "      <td>INDIVIDUAL</td>\n",
              "    </tr>\n",
              "  </tbody>\n",
              "</table>\n",
              "<p>999 rows × 47 columns</p>\n",
              "</div>\n",
              "      <button class=\"colab-df-convert\" onclick=\"convertToInteractive('df-87a4cc15-5a07-4178-bba1-2c740e546caf')\"\n",
              "              title=\"Convert this dataframe to an interactive table.\"\n",
              "              style=\"display:none;\">\n",
              "        \n",
              "  <svg xmlns=\"http://www.w3.org/2000/svg\" height=\"24px\"viewBox=\"0 0 24 24\"\n",
              "       width=\"24px\">\n",
              "    <path d=\"M0 0h24v24H0V0z\" fill=\"none\"/>\n",
              "    <path d=\"M18.56 5.44l.94 2.06.94-2.06 2.06-.94-2.06-.94-.94-2.06-.94 2.06-2.06.94zm-11 1L8.5 8.5l.94-2.06 2.06-.94-2.06-.94L8.5 2.5l-.94 2.06-2.06.94zm10 10l.94 2.06.94-2.06 2.06-.94-2.06-.94-.94-2.06-.94 2.06-2.06.94z\"/><path d=\"M17.41 7.96l-1.37-1.37c-.4-.4-.92-.59-1.43-.59-.52 0-1.04.2-1.43.59L10.3 9.45l-7.72 7.72c-.78.78-.78 2.05 0 2.83L4 21.41c.39.39.9.59 1.41.59.51 0 1.02-.2 1.41-.59l7.78-7.78 2.81-2.81c.8-.78.8-2.07 0-2.86zM5.41 20L4 18.59l7.72-7.72 1.47 1.35L5.41 20z\"/>\n",
              "  </svg>\n",
              "      </button>\n",
              "      \n",
              "  <style>\n",
              "    .colab-df-container {\n",
              "      display:flex;\n",
              "      flex-wrap:wrap;\n",
              "      gap: 12px;\n",
              "    }\n",
              "\n",
              "    .colab-df-convert {\n",
              "      background-color: #E8F0FE;\n",
              "      border: none;\n",
              "      border-radius: 50%;\n",
              "      cursor: pointer;\n",
              "      display: none;\n",
              "      fill: #1967D2;\n",
              "      height: 32px;\n",
              "      padding: 0 0 0 0;\n",
              "      width: 32px;\n",
              "    }\n",
              "\n",
              "    .colab-df-convert:hover {\n",
              "      background-color: #E2EBFA;\n",
              "      box-shadow: 0px 1px 2px rgba(60, 64, 67, 0.3), 0px 1px 3px 1px rgba(60, 64, 67, 0.15);\n",
              "      fill: #174EA6;\n",
              "    }\n",
              "\n",
              "    [theme=dark] .colab-df-convert {\n",
              "      background-color: #3B4455;\n",
              "      fill: #D2E3FC;\n",
              "    }\n",
              "\n",
              "    [theme=dark] .colab-df-convert:hover {\n",
              "      background-color: #434B5C;\n",
              "      box-shadow: 0px 1px 3px 1px rgba(0, 0, 0, 0.15);\n",
              "      filter: drop-shadow(0px 1px 2px rgba(0, 0, 0, 0.3));\n",
              "      fill: #FFFFFF;\n",
              "    }\n",
              "  </style>\n",
              "\n",
              "      <script>\n",
              "        const buttonEl =\n",
              "          document.querySelector('#df-87a4cc15-5a07-4178-bba1-2c740e546caf button.colab-df-convert');\n",
              "        buttonEl.style.display =\n",
              "          google.colab.kernel.accessAllowed ? 'block' : 'none';\n",
              "\n",
              "        async function convertToInteractive(key) {\n",
              "          const element = document.querySelector('#df-87a4cc15-5a07-4178-bba1-2c740e546caf');\n",
              "          const dataTable =\n",
              "            await google.colab.kernel.invokeFunction('convertToInteractive',\n",
              "                                                     [key], {});\n",
              "          if (!dataTable) return;\n",
              "\n",
              "          const docLinkHtml = 'Like what you see? Visit the ' +\n",
              "            '<a target=\"_blank\" href=https://colab.research.google.com/notebooks/data_table.ipynb>data table notebook</a>'\n",
              "            + ' to learn more about interactive tables.';\n",
              "          element.innerHTML = '';\n",
              "          dataTable['output_type'] = 'display_data';\n",
              "          await google.colab.output.renderOutput(dataTable, element);\n",
              "          const docLink = document.createElement('div');\n",
              "          docLink.innerHTML = docLinkHtml;\n",
              "          element.appendChild(docLink);\n",
              "        }\n",
              "      </script>\n",
              "    </div>\n",
              "  </div>\n",
              "  "
            ]
          },
          "metadata": {},
          "execution_count": 27
        }
      ]
    },
    {
      "cell_type": "code",
      "source": [
        "df = data['term'].str.replace(' months', '')"
      ],
      "metadata": {
        "id": "HQyJFCjKIIcP"
      },
      "execution_count": null,
      "outputs": []
    },
    {
      "cell_type": "code",
      "source": [
        "df"
      ],
      "metadata": {
        "colab": {
          "base_uri": "https://localhost:8080/"
        },
        "id": "-_9aDAsaImnw",
        "outputId": "5e3e53f6-97eb-4606-ac19-058b65c3537e"
      },
      "execution_count": null,
      "outputs": [
        {
          "output_type": "execute_result",
          "data": {
            "text/plain": [
              "0       36\n",
              "1       60\n",
              "2       36\n",
              "3       36\n",
              "4       60\n",
              "      ... \n",
              "994     36\n",
              "995     36\n",
              "996     36\n",
              "997     36\n",
              "998     60\n",
              "Name: term, Length: 999, dtype: object"
            ]
          },
          "metadata": {},
          "execution_count": 29
        }
      ]
    },
    {
      "cell_type": "markdown",
      "source": [
        "Cleaning the term column by stripping word 'months' from each entry and converting each entry into integer"
      ],
      "metadata": {
        "id": "C1NlK42MKbvR"
      }
    },
    {
      "cell_type": "code",
      "source": [
        "data['term'] = data['term'].str.replace(' months', '')\n",
        "data['term'] = data['term'].astype(int)"
      ],
      "metadata": {
        "id": "0FF6liMwIq9g"
      },
      "execution_count": null,
      "outputs": []
    },
    {
      "cell_type": "code",
      "source": [
        "data"
      ],
      "metadata": {
        "colab": {
          "base_uri": "https://localhost:8080/",
          "height": 488
        },
        "id": "fbRiGK6mIxvx",
        "outputId": "68d7e5da-b769-48bf-8e44-4d04434ffeb1"
      },
      "execution_count": null,
      "outputs": [
        {
          "output_type": "execute_result",
          "data": {
            "text/plain": [
              "          id  member_id  loan_amnt  funded_amnt  funded_amnt_inv  term  \\\n",
              "0    1077501    1296599       5000         5000       4975.00000    36   \n",
              "1    1077430    1314167       2500         2500       2500.00000    60   \n",
              "2    1077175    1313524       2400         2400       2400.00000    36   \n",
              "3    1076863    1277178      10000        10000      10000.00000    36   \n",
              "4    1075358    1311748       3000         3000       3000.00000    60   \n",
              "..       ...        ...        ...          ...              ...   ...   \n",
              "994  1057818    1289186       7000         7000       7000.00000    36   \n",
              "995  1057629    1289394       2425         2425       2425.00000    36   \n",
              "996  1057621    1289385       6950         6950       6950.00000    36   \n",
              "997  1057787    1289153      12375        12375      12344.46478    36   \n",
              "998  1057770    1289135      35000        35000      33906.19420    60   \n",
              "\n",
              "     int_rate  installment grade sub_grade  ... total_pymnt_inv  \\\n",
              "0       10.65       162.87     B        B2  ...         5831.78   \n",
              "1       15.27        59.83     C        C4  ...         1008.71   \n",
              "2       15.96        84.33     C        C5  ...         3003.65   \n",
              "3       13.49       339.31     C        C1  ...        12226.30   \n",
              "4       12.69        67.79     B        B5  ...         3242.17   \n",
              "..        ...          ...   ...       ...  ...             ...   \n",
              "994      8.90       222.28     A        A5  ...         8000.34   \n",
              "995     15.27        84.39     C        C4  ...         3052.79   \n",
              "996      9.91       223.97     B        B1  ...         7349.48   \n",
              "997      9.91       398.79     B        B1  ...        13399.63   \n",
              "998     20.30       933.14     E        E5  ...        42066.82   \n",
              "\n",
              "    total_rec_prncp total_rec_int  total_rec_late_fee recoveries  \\\n",
              "0           5000.00        861.07                0.00       0.00   \n",
              "1            456.46        435.17                0.00     117.08   \n",
              "2           2400.00        603.65                0.00       0.00   \n",
              "3          10000.00       2209.33               16.97       0.00   \n",
              "4           2233.10       1009.07                0.00       0.00   \n",
              "..              ...           ...                 ...        ...   \n",
              "994         7000.00       1000.34                0.00       0.00   \n",
              "995         2424.99        612.80               15.00       0.00   \n",
              "996         6950.01        399.47                0.00       0.00   \n",
              "997        12375.01       1058.95                0.00       0.00   \n",
              "998        24930.60      19834.12                0.00       0.00   \n",
              "\n",
              "    collection_recovery_fee last_pymnt_d last_pymnt_amnt last_credit_pull_d  \\\n",
              "0                      0.00       Jan-15          171.62             Jan-16   \n",
              "1                      1.11       Apr-13          119.66             Sep-13   \n",
              "2                      0.00       Jun-14          649.91             Jan-16   \n",
              "3                      0.00       Jan-15          357.48             Jan-15   \n",
              "4                      0.00       Jan-16           67.79             Jan-16   \n",
              "..                      ...          ...             ...                ...   \n",
              "994                    0.00       Dec-14          229.64             Dec-14   \n",
              "995                    0.00       Jan-15           16.06             Jul-15   \n",
              "996                    0.00       Sep-12         1560.92             Apr-14   \n",
              "997                    0.00       Dec-12         9056.48             Jan-16   \n",
              "998                    0.00       Jan-16          933.14             Jan-16   \n",
              "\n",
              "    application_type  \n",
              "0         INDIVIDUAL  \n",
              "1         INDIVIDUAL  \n",
              "2         INDIVIDUAL  \n",
              "3         INDIVIDUAL  \n",
              "4         INDIVIDUAL  \n",
              "..               ...  \n",
              "994       INDIVIDUAL  \n",
              "995       INDIVIDUAL  \n",
              "996       INDIVIDUAL  \n",
              "997       INDIVIDUAL  \n",
              "998       INDIVIDUAL  \n",
              "\n",
              "[999 rows x 47 columns]"
            ],
            "text/html": [
              "\n",
              "  <div id=\"df-9be61e32-0b0a-4596-8549-64250458ec9f\">\n",
              "    <div class=\"colab-df-container\">\n",
              "      <div>\n",
              "<style scoped>\n",
              "    .dataframe tbody tr th:only-of-type {\n",
              "        vertical-align: middle;\n",
              "    }\n",
              "\n",
              "    .dataframe tbody tr th {\n",
              "        vertical-align: top;\n",
              "    }\n",
              "\n",
              "    .dataframe thead th {\n",
              "        text-align: right;\n",
              "    }\n",
              "</style>\n",
              "<table border=\"1\" class=\"dataframe\">\n",
              "  <thead>\n",
              "    <tr style=\"text-align: right;\">\n",
              "      <th></th>\n",
              "      <th>id</th>\n",
              "      <th>member_id</th>\n",
              "      <th>loan_amnt</th>\n",
              "      <th>funded_amnt</th>\n",
              "      <th>funded_amnt_inv</th>\n",
              "      <th>term</th>\n",
              "      <th>int_rate</th>\n",
              "      <th>installment</th>\n",
              "      <th>grade</th>\n",
              "      <th>sub_grade</th>\n",
              "      <th>...</th>\n",
              "      <th>total_pymnt_inv</th>\n",
              "      <th>total_rec_prncp</th>\n",
              "      <th>total_rec_int</th>\n",
              "      <th>total_rec_late_fee</th>\n",
              "      <th>recoveries</th>\n",
              "      <th>collection_recovery_fee</th>\n",
              "      <th>last_pymnt_d</th>\n",
              "      <th>last_pymnt_amnt</th>\n",
              "      <th>last_credit_pull_d</th>\n",
              "      <th>application_type</th>\n",
              "    </tr>\n",
              "  </thead>\n",
              "  <tbody>\n",
              "    <tr>\n",
              "      <th>0</th>\n",
              "      <td>1077501</td>\n",
              "      <td>1296599</td>\n",
              "      <td>5000</td>\n",
              "      <td>5000</td>\n",
              "      <td>4975.00000</td>\n",
              "      <td>36</td>\n",
              "      <td>10.65</td>\n",
              "      <td>162.87</td>\n",
              "      <td>B</td>\n",
              "      <td>B2</td>\n",
              "      <td>...</td>\n",
              "      <td>5831.78</td>\n",
              "      <td>5000.00</td>\n",
              "      <td>861.07</td>\n",
              "      <td>0.00</td>\n",
              "      <td>0.00</td>\n",
              "      <td>0.00</td>\n",
              "      <td>Jan-15</td>\n",
              "      <td>171.62</td>\n",
              "      <td>Jan-16</td>\n",
              "      <td>INDIVIDUAL</td>\n",
              "    </tr>\n",
              "    <tr>\n",
              "      <th>1</th>\n",
              "      <td>1077430</td>\n",
              "      <td>1314167</td>\n",
              "      <td>2500</td>\n",
              "      <td>2500</td>\n",
              "      <td>2500.00000</td>\n",
              "      <td>60</td>\n",
              "      <td>15.27</td>\n",
              "      <td>59.83</td>\n",
              "      <td>C</td>\n",
              "      <td>C4</td>\n",
              "      <td>...</td>\n",
              "      <td>1008.71</td>\n",
              "      <td>456.46</td>\n",
              "      <td>435.17</td>\n",
              "      <td>0.00</td>\n",
              "      <td>117.08</td>\n",
              "      <td>1.11</td>\n",
              "      <td>Apr-13</td>\n",
              "      <td>119.66</td>\n",
              "      <td>Sep-13</td>\n",
              "      <td>INDIVIDUAL</td>\n",
              "    </tr>\n",
              "    <tr>\n",
              "      <th>2</th>\n",
              "      <td>1077175</td>\n",
              "      <td>1313524</td>\n",
              "      <td>2400</td>\n",
              "      <td>2400</td>\n",
              "      <td>2400.00000</td>\n",
              "      <td>36</td>\n",
              "      <td>15.96</td>\n",
              "      <td>84.33</td>\n",
              "      <td>C</td>\n",
              "      <td>C5</td>\n",
              "      <td>...</td>\n",
              "      <td>3003.65</td>\n",
              "      <td>2400.00</td>\n",
              "      <td>603.65</td>\n",
              "      <td>0.00</td>\n",
              "      <td>0.00</td>\n",
              "      <td>0.00</td>\n",
              "      <td>Jun-14</td>\n",
              "      <td>649.91</td>\n",
              "      <td>Jan-16</td>\n",
              "      <td>INDIVIDUAL</td>\n",
              "    </tr>\n",
              "    <tr>\n",
              "      <th>3</th>\n",
              "      <td>1076863</td>\n",
              "      <td>1277178</td>\n",
              "      <td>10000</td>\n",
              "      <td>10000</td>\n",
              "      <td>10000.00000</td>\n",
              "      <td>36</td>\n",
              "      <td>13.49</td>\n",
              "      <td>339.31</td>\n",
              "      <td>C</td>\n",
              "      <td>C1</td>\n",
              "      <td>...</td>\n",
              "      <td>12226.30</td>\n",
              "      <td>10000.00</td>\n",
              "      <td>2209.33</td>\n",
              "      <td>16.97</td>\n",
              "      <td>0.00</td>\n",
              "      <td>0.00</td>\n",
              "      <td>Jan-15</td>\n",
              "      <td>357.48</td>\n",
              "      <td>Jan-15</td>\n",
              "      <td>INDIVIDUAL</td>\n",
              "    </tr>\n",
              "    <tr>\n",
              "      <th>4</th>\n",
              "      <td>1075358</td>\n",
              "      <td>1311748</td>\n",
              "      <td>3000</td>\n",
              "      <td>3000</td>\n",
              "      <td>3000.00000</td>\n",
              "      <td>60</td>\n",
              "      <td>12.69</td>\n",
              "      <td>67.79</td>\n",
              "      <td>B</td>\n",
              "      <td>B5</td>\n",
              "      <td>...</td>\n",
              "      <td>3242.17</td>\n",
              "      <td>2233.10</td>\n",
              "      <td>1009.07</td>\n",
              "      <td>0.00</td>\n",
              "      <td>0.00</td>\n",
              "      <td>0.00</td>\n",
              "      <td>Jan-16</td>\n",
              "      <td>67.79</td>\n",
              "      <td>Jan-16</td>\n",
              "      <td>INDIVIDUAL</td>\n",
              "    </tr>\n",
              "    <tr>\n",
              "      <th>...</th>\n",
              "      <td>...</td>\n",
              "      <td>...</td>\n",
              "      <td>...</td>\n",
              "      <td>...</td>\n",
              "      <td>...</td>\n",
              "      <td>...</td>\n",
              "      <td>...</td>\n",
              "      <td>...</td>\n",
              "      <td>...</td>\n",
              "      <td>...</td>\n",
              "      <td>...</td>\n",
              "      <td>...</td>\n",
              "      <td>...</td>\n",
              "      <td>...</td>\n",
              "      <td>...</td>\n",
              "      <td>...</td>\n",
              "      <td>...</td>\n",
              "      <td>...</td>\n",
              "      <td>...</td>\n",
              "      <td>...</td>\n",
              "      <td>...</td>\n",
              "    </tr>\n",
              "    <tr>\n",
              "      <th>994</th>\n",
              "      <td>1057818</td>\n",
              "      <td>1289186</td>\n",
              "      <td>7000</td>\n",
              "      <td>7000</td>\n",
              "      <td>7000.00000</td>\n",
              "      <td>36</td>\n",
              "      <td>8.90</td>\n",
              "      <td>222.28</td>\n",
              "      <td>A</td>\n",
              "      <td>A5</td>\n",
              "      <td>...</td>\n",
              "      <td>8000.34</td>\n",
              "      <td>7000.00</td>\n",
              "      <td>1000.34</td>\n",
              "      <td>0.00</td>\n",
              "      <td>0.00</td>\n",
              "      <td>0.00</td>\n",
              "      <td>Dec-14</td>\n",
              "      <td>229.64</td>\n",
              "      <td>Dec-14</td>\n",
              "      <td>INDIVIDUAL</td>\n",
              "    </tr>\n",
              "    <tr>\n",
              "      <th>995</th>\n",
              "      <td>1057629</td>\n",
              "      <td>1289394</td>\n",
              "      <td>2425</td>\n",
              "      <td>2425</td>\n",
              "      <td>2425.00000</td>\n",
              "      <td>36</td>\n",
              "      <td>15.27</td>\n",
              "      <td>84.39</td>\n",
              "      <td>C</td>\n",
              "      <td>C4</td>\n",
              "      <td>...</td>\n",
              "      <td>3052.79</td>\n",
              "      <td>2424.99</td>\n",
              "      <td>612.80</td>\n",
              "      <td>15.00</td>\n",
              "      <td>0.00</td>\n",
              "      <td>0.00</td>\n",
              "      <td>Jan-15</td>\n",
              "      <td>16.06</td>\n",
              "      <td>Jul-15</td>\n",
              "      <td>INDIVIDUAL</td>\n",
              "    </tr>\n",
              "    <tr>\n",
              "      <th>996</th>\n",
              "      <td>1057621</td>\n",
              "      <td>1289385</td>\n",
              "      <td>6950</td>\n",
              "      <td>6950</td>\n",
              "      <td>6950.00000</td>\n",
              "      <td>36</td>\n",
              "      <td>9.91</td>\n",
              "      <td>223.97</td>\n",
              "      <td>B</td>\n",
              "      <td>B1</td>\n",
              "      <td>...</td>\n",
              "      <td>7349.48</td>\n",
              "      <td>6950.01</td>\n",
              "      <td>399.47</td>\n",
              "      <td>0.00</td>\n",
              "      <td>0.00</td>\n",
              "      <td>0.00</td>\n",
              "      <td>Sep-12</td>\n",
              "      <td>1560.92</td>\n",
              "      <td>Apr-14</td>\n",
              "      <td>INDIVIDUAL</td>\n",
              "    </tr>\n",
              "    <tr>\n",
              "      <th>997</th>\n",
              "      <td>1057787</td>\n",
              "      <td>1289153</td>\n",
              "      <td>12375</td>\n",
              "      <td>12375</td>\n",
              "      <td>12344.46478</td>\n",
              "      <td>36</td>\n",
              "      <td>9.91</td>\n",
              "      <td>398.79</td>\n",
              "      <td>B</td>\n",
              "      <td>B1</td>\n",
              "      <td>...</td>\n",
              "      <td>13399.63</td>\n",
              "      <td>12375.01</td>\n",
              "      <td>1058.95</td>\n",
              "      <td>0.00</td>\n",
              "      <td>0.00</td>\n",
              "      <td>0.00</td>\n",
              "      <td>Dec-12</td>\n",
              "      <td>9056.48</td>\n",
              "      <td>Jan-16</td>\n",
              "      <td>INDIVIDUAL</td>\n",
              "    </tr>\n",
              "    <tr>\n",
              "      <th>998</th>\n",
              "      <td>1057770</td>\n",
              "      <td>1289135</td>\n",
              "      <td>35000</td>\n",
              "      <td>35000</td>\n",
              "      <td>33906.19420</td>\n",
              "      <td>60</td>\n",
              "      <td>20.30</td>\n",
              "      <td>933.14</td>\n",
              "      <td>E</td>\n",
              "      <td>E5</td>\n",
              "      <td>...</td>\n",
              "      <td>42066.82</td>\n",
              "      <td>24930.60</td>\n",
              "      <td>19834.12</td>\n",
              "      <td>0.00</td>\n",
              "      <td>0.00</td>\n",
              "      <td>0.00</td>\n",
              "      <td>Jan-16</td>\n",
              "      <td>933.14</td>\n",
              "      <td>Jan-16</td>\n",
              "      <td>INDIVIDUAL</td>\n",
              "    </tr>\n",
              "  </tbody>\n",
              "</table>\n",
              "<p>999 rows × 47 columns</p>\n",
              "</div>\n",
              "      <button class=\"colab-df-convert\" onclick=\"convertToInteractive('df-9be61e32-0b0a-4596-8549-64250458ec9f')\"\n",
              "              title=\"Convert this dataframe to an interactive table.\"\n",
              "              style=\"display:none;\">\n",
              "        \n",
              "  <svg xmlns=\"http://www.w3.org/2000/svg\" height=\"24px\"viewBox=\"0 0 24 24\"\n",
              "       width=\"24px\">\n",
              "    <path d=\"M0 0h24v24H0V0z\" fill=\"none\"/>\n",
              "    <path d=\"M18.56 5.44l.94 2.06.94-2.06 2.06-.94-2.06-.94-.94-2.06-.94 2.06-2.06.94zm-11 1L8.5 8.5l.94-2.06 2.06-.94-2.06-.94L8.5 2.5l-.94 2.06-2.06.94zm10 10l.94 2.06.94-2.06 2.06-.94-2.06-.94-.94-2.06-.94 2.06-2.06.94z\"/><path d=\"M17.41 7.96l-1.37-1.37c-.4-.4-.92-.59-1.43-.59-.52 0-1.04.2-1.43.59L10.3 9.45l-7.72 7.72c-.78.78-.78 2.05 0 2.83L4 21.41c.39.39.9.59 1.41.59.51 0 1.02-.2 1.41-.59l7.78-7.78 2.81-2.81c.8-.78.8-2.07 0-2.86zM5.41 20L4 18.59l7.72-7.72 1.47 1.35L5.41 20z\"/>\n",
              "  </svg>\n",
              "      </button>\n",
              "      \n",
              "  <style>\n",
              "    .colab-df-container {\n",
              "      display:flex;\n",
              "      flex-wrap:wrap;\n",
              "      gap: 12px;\n",
              "    }\n",
              "\n",
              "    .colab-df-convert {\n",
              "      background-color: #E8F0FE;\n",
              "      border: none;\n",
              "      border-radius: 50%;\n",
              "      cursor: pointer;\n",
              "      display: none;\n",
              "      fill: #1967D2;\n",
              "      height: 32px;\n",
              "      padding: 0 0 0 0;\n",
              "      width: 32px;\n",
              "    }\n",
              "\n",
              "    .colab-df-convert:hover {\n",
              "      background-color: #E2EBFA;\n",
              "      box-shadow: 0px 1px 2px rgba(60, 64, 67, 0.3), 0px 1px 3px 1px rgba(60, 64, 67, 0.15);\n",
              "      fill: #174EA6;\n",
              "    }\n",
              "\n",
              "    [theme=dark] .colab-df-convert {\n",
              "      background-color: #3B4455;\n",
              "      fill: #D2E3FC;\n",
              "    }\n",
              "\n",
              "    [theme=dark] .colab-df-convert:hover {\n",
              "      background-color: #434B5C;\n",
              "      box-shadow: 0px 1px 3px 1px rgba(0, 0, 0, 0.15);\n",
              "      filter: drop-shadow(0px 1px 2px rgba(0, 0, 0, 0.3));\n",
              "      fill: #FFFFFF;\n",
              "    }\n",
              "  </style>\n",
              "\n",
              "      <script>\n",
              "        const buttonEl =\n",
              "          document.querySelector('#df-9be61e32-0b0a-4596-8549-64250458ec9f button.colab-df-convert');\n",
              "        buttonEl.style.display =\n",
              "          google.colab.kernel.accessAllowed ? 'block' : 'none';\n",
              "\n",
              "        async function convertToInteractive(key) {\n",
              "          const element = document.querySelector('#df-9be61e32-0b0a-4596-8549-64250458ec9f');\n",
              "          const dataTable =\n",
              "            await google.colab.kernel.invokeFunction('convertToInteractive',\n",
              "                                                     [key], {});\n",
              "          if (!dataTable) return;\n",
              "\n",
              "          const docLinkHtml = 'Like what you see? Visit the ' +\n",
              "            '<a target=\"_blank\" href=https://colab.research.google.com/notebooks/data_table.ipynb>data table notebook</a>'\n",
              "            + ' to learn more about interactive tables.';\n",
              "          element.innerHTML = '';\n",
              "          dataTable['output_type'] = 'display_data';\n",
              "          await google.colab.output.renderOutput(dataTable, element);\n",
              "          const docLink = document.createElement('div');\n",
              "          docLink.innerHTML = docLinkHtml;\n",
              "          element.appendChild(docLink);\n",
              "        }\n",
              "      </script>\n",
              "    </div>\n",
              "  </div>\n",
              "  "
            ]
          },
          "metadata": {},
          "execution_count": 31
        }
      ]
    },
    {
      "cell_type": "code",
      "source": [
        "dframe = data['emp_length'].str.replace(r'\\D+', '', regex=True)"
      ],
      "metadata": {
        "id": "ugy4DX5TKsZU"
      },
      "execution_count": null,
      "outputs": []
    },
    {
      "cell_type": "code",
      "source": [
        "dframe = dframe.astype(float)"
      ],
      "metadata": {
        "id": "T-6VcMP9MhKE"
      },
      "execution_count": null,
      "outputs": []
    },
    {
      "cell_type": "code",
      "source": [
        "dframe"
      ],
      "metadata": {
        "id": "qDsfzQD0N0z6",
        "colab": {
          "base_uri": "https://localhost:8080/"
        },
        "outputId": "fdc3ffcd-b0b9-4cc5-bdf7-df8cec62b43a"
      },
      "execution_count": null,
      "outputs": [
        {
          "output_type": "execute_result",
          "data": {
            "text/plain": [
              "0      10.0\n",
              "1       1.0\n",
              "2      10.0\n",
              "3      10.0\n",
              "4       1.0\n",
              "       ... \n",
              "994     5.0\n",
              "995     3.0\n",
              "996     2.0\n",
              "997    10.0\n",
              "998    10.0\n",
              "Name: emp_length, Length: 999, dtype: float64"
            ]
          },
          "metadata": {},
          "execution_count": 34
        }
      ]
    },
    {
      "cell_type": "markdown",
      "source": [
        "Removing all non numeric characters and converting it into float. This is then used to fill in missing values by taking mean."
      ],
      "metadata": {
        "id": "TQnqGOYXKn9a"
      }
    },
    {
      "cell_type": "code",
      "source": [
        "data['emp_length'] = data['emp_length'].str.replace(r'\\D+', '', regex=True)\n",
        "data['emp_length'] = data['emp_length'].astype(float)\n",
        "meanEmp = data['emp_length'].mean()\n",
        "data['emp_length'].fillna(meanEmp, inplace=True)\n",
        "data['emp_length']"
      ],
      "metadata": {
        "colab": {
          "base_uri": "https://localhost:8080/"
        },
        "id": "o3bxH7fwyeLQ",
        "outputId": "24c98ea7-dbe1-43ba-c7c2-7ef774126f4b"
      },
      "execution_count": null,
      "outputs": [
        {
          "output_type": "execute_result",
          "data": {
            "text/plain": [
              "0      10.0\n",
              "1       1.0\n",
              "2      10.0\n",
              "3      10.0\n",
              "4       1.0\n",
              "       ... \n",
              "994     5.0\n",
              "995     3.0\n",
              "996     2.0\n",
              "997    10.0\n",
              "998    10.0\n",
              "Name: emp_length, Length: 999, dtype: float64"
            ]
          },
          "metadata": {},
          "execution_count": 35
        }
      ]
    },
    {
      "cell_type": "code",
      "source": [
        "data"
      ],
      "metadata": {
        "colab": {
          "base_uri": "https://localhost:8080/",
          "height": 488
        },
        "id": "LI7XNJtry1WZ",
        "outputId": "c7f9eb99-5ade-4908-c263-f9d5ac5a70e3"
      },
      "execution_count": null,
      "outputs": [
        {
          "output_type": "execute_result",
          "data": {
            "text/plain": [
              "          id  member_id  loan_amnt  funded_amnt  funded_amnt_inv  term  \\\n",
              "0    1077501    1296599       5000         5000       4975.00000    36   \n",
              "1    1077430    1314167       2500         2500       2500.00000    60   \n",
              "2    1077175    1313524       2400         2400       2400.00000    36   \n",
              "3    1076863    1277178      10000        10000      10000.00000    36   \n",
              "4    1075358    1311748       3000         3000       3000.00000    60   \n",
              "..       ...        ...        ...          ...              ...   ...   \n",
              "994  1057818    1289186       7000         7000       7000.00000    36   \n",
              "995  1057629    1289394       2425         2425       2425.00000    36   \n",
              "996  1057621    1289385       6950         6950       6950.00000    36   \n",
              "997  1057787    1289153      12375        12375      12344.46478    36   \n",
              "998  1057770    1289135      35000        35000      33906.19420    60   \n",
              "\n",
              "     int_rate  installment grade sub_grade  ... total_pymnt_inv  \\\n",
              "0       10.65       162.87     B        B2  ...         5831.78   \n",
              "1       15.27        59.83     C        C4  ...         1008.71   \n",
              "2       15.96        84.33     C        C5  ...         3003.65   \n",
              "3       13.49       339.31     C        C1  ...        12226.30   \n",
              "4       12.69        67.79     B        B5  ...         3242.17   \n",
              "..        ...          ...   ...       ...  ...             ...   \n",
              "994      8.90       222.28     A        A5  ...         8000.34   \n",
              "995     15.27        84.39     C        C4  ...         3052.79   \n",
              "996      9.91       223.97     B        B1  ...         7349.48   \n",
              "997      9.91       398.79     B        B1  ...        13399.63   \n",
              "998     20.30       933.14     E        E5  ...        42066.82   \n",
              "\n",
              "     total_rec_prncp total_rec_int  total_rec_late_fee recoveries  \\\n",
              "0            5000.00        861.07                0.00       0.00   \n",
              "1             456.46        435.17                0.00     117.08   \n",
              "2            2400.00        603.65                0.00       0.00   \n",
              "3           10000.00       2209.33               16.97       0.00   \n",
              "4            2233.10       1009.07                0.00       0.00   \n",
              "..               ...           ...                 ...        ...   \n",
              "994          7000.00       1000.34                0.00       0.00   \n",
              "995          2424.99        612.80               15.00       0.00   \n",
              "996          6950.01        399.47                0.00       0.00   \n",
              "997         12375.01       1058.95                0.00       0.00   \n",
              "998         24930.60      19834.12                0.00       0.00   \n",
              "\n",
              "    collection_recovery_fee last_pymnt_d last_pymnt_amnt last_credit_pull_d  \\\n",
              "0                      0.00       Jan-15          171.62             Jan-16   \n",
              "1                      1.11       Apr-13          119.66             Sep-13   \n",
              "2                      0.00       Jun-14          649.91             Jan-16   \n",
              "3                      0.00       Jan-15          357.48             Jan-15   \n",
              "4                      0.00       Jan-16           67.79             Jan-16   \n",
              "..                      ...          ...             ...                ...   \n",
              "994                    0.00       Dec-14          229.64             Dec-14   \n",
              "995                    0.00       Jan-15           16.06             Jul-15   \n",
              "996                    0.00       Sep-12         1560.92             Apr-14   \n",
              "997                    0.00       Dec-12         9056.48             Jan-16   \n",
              "998                    0.00       Jan-16          933.14             Jan-16   \n",
              "\n",
              "    application_type  \n",
              "0         INDIVIDUAL  \n",
              "1         INDIVIDUAL  \n",
              "2         INDIVIDUAL  \n",
              "3         INDIVIDUAL  \n",
              "4         INDIVIDUAL  \n",
              "..               ...  \n",
              "994       INDIVIDUAL  \n",
              "995       INDIVIDUAL  \n",
              "996       INDIVIDUAL  \n",
              "997       INDIVIDUAL  \n",
              "998       INDIVIDUAL  \n",
              "\n",
              "[999 rows x 47 columns]"
            ],
            "text/html": [
              "\n",
              "  <div id=\"df-2e0984b5-f6ad-4f38-83b7-68858d27185e\">\n",
              "    <div class=\"colab-df-container\">\n",
              "      <div>\n",
              "<style scoped>\n",
              "    .dataframe tbody tr th:only-of-type {\n",
              "        vertical-align: middle;\n",
              "    }\n",
              "\n",
              "    .dataframe tbody tr th {\n",
              "        vertical-align: top;\n",
              "    }\n",
              "\n",
              "    .dataframe thead th {\n",
              "        text-align: right;\n",
              "    }\n",
              "</style>\n",
              "<table border=\"1\" class=\"dataframe\">\n",
              "  <thead>\n",
              "    <tr style=\"text-align: right;\">\n",
              "      <th></th>\n",
              "      <th>id</th>\n",
              "      <th>member_id</th>\n",
              "      <th>loan_amnt</th>\n",
              "      <th>funded_amnt</th>\n",
              "      <th>funded_amnt_inv</th>\n",
              "      <th>term</th>\n",
              "      <th>int_rate</th>\n",
              "      <th>installment</th>\n",
              "      <th>grade</th>\n",
              "      <th>sub_grade</th>\n",
              "      <th>...</th>\n",
              "      <th>total_pymnt_inv</th>\n",
              "      <th>total_rec_prncp</th>\n",
              "      <th>total_rec_int</th>\n",
              "      <th>total_rec_late_fee</th>\n",
              "      <th>recoveries</th>\n",
              "      <th>collection_recovery_fee</th>\n",
              "      <th>last_pymnt_d</th>\n",
              "      <th>last_pymnt_amnt</th>\n",
              "      <th>last_credit_pull_d</th>\n",
              "      <th>application_type</th>\n",
              "    </tr>\n",
              "  </thead>\n",
              "  <tbody>\n",
              "    <tr>\n",
              "      <th>0</th>\n",
              "      <td>1077501</td>\n",
              "      <td>1296599</td>\n",
              "      <td>5000</td>\n",
              "      <td>5000</td>\n",
              "      <td>4975.00000</td>\n",
              "      <td>36</td>\n",
              "      <td>10.65</td>\n",
              "      <td>162.87</td>\n",
              "      <td>B</td>\n",
              "      <td>B2</td>\n",
              "      <td>...</td>\n",
              "      <td>5831.78</td>\n",
              "      <td>5000.00</td>\n",
              "      <td>861.07</td>\n",
              "      <td>0.00</td>\n",
              "      <td>0.00</td>\n",
              "      <td>0.00</td>\n",
              "      <td>Jan-15</td>\n",
              "      <td>171.62</td>\n",
              "      <td>Jan-16</td>\n",
              "      <td>INDIVIDUAL</td>\n",
              "    </tr>\n",
              "    <tr>\n",
              "      <th>1</th>\n",
              "      <td>1077430</td>\n",
              "      <td>1314167</td>\n",
              "      <td>2500</td>\n",
              "      <td>2500</td>\n",
              "      <td>2500.00000</td>\n",
              "      <td>60</td>\n",
              "      <td>15.27</td>\n",
              "      <td>59.83</td>\n",
              "      <td>C</td>\n",
              "      <td>C4</td>\n",
              "      <td>...</td>\n",
              "      <td>1008.71</td>\n",
              "      <td>456.46</td>\n",
              "      <td>435.17</td>\n",
              "      <td>0.00</td>\n",
              "      <td>117.08</td>\n",
              "      <td>1.11</td>\n",
              "      <td>Apr-13</td>\n",
              "      <td>119.66</td>\n",
              "      <td>Sep-13</td>\n",
              "      <td>INDIVIDUAL</td>\n",
              "    </tr>\n",
              "    <tr>\n",
              "      <th>2</th>\n",
              "      <td>1077175</td>\n",
              "      <td>1313524</td>\n",
              "      <td>2400</td>\n",
              "      <td>2400</td>\n",
              "      <td>2400.00000</td>\n",
              "      <td>36</td>\n",
              "      <td>15.96</td>\n",
              "      <td>84.33</td>\n",
              "      <td>C</td>\n",
              "      <td>C5</td>\n",
              "      <td>...</td>\n",
              "      <td>3003.65</td>\n",
              "      <td>2400.00</td>\n",
              "      <td>603.65</td>\n",
              "      <td>0.00</td>\n",
              "      <td>0.00</td>\n",
              "      <td>0.00</td>\n",
              "      <td>Jun-14</td>\n",
              "      <td>649.91</td>\n",
              "      <td>Jan-16</td>\n",
              "      <td>INDIVIDUAL</td>\n",
              "    </tr>\n",
              "    <tr>\n",
              "      <th>3</th>\n",
              "      <td>1076863</td>\n",
              "      <td>1277178</td>\n",
              "      <td>10000</td>\n",
              "      <td>10000</td>\n",
              "      <td>10000.00000</td>\n",
              "      <td>36</td>\n",
              "      <td>13.49</td>\n",
              "      <td>339.31</td>\n",
              "      <td>C</td>\n",
              "      <td>C1</td>\n",
              "      <td>...</td>\n",
              "      <td>12226.30</td>\n",
              "      <td>10000.00</td>\n",
              "      <td>2209.33</td>\n",
              "      <td>16.97</td>\n",
              "      <td>0.00</td>\n",
              "      <td>0.00</td>\n",
              "      <td>Jan-15</td>\n",
              "      <td>357.48</td>\n",
              "      <td>Jan-15</td>\n",
              "      <td>INDIVIDUAL</td>\n",
              "    </tr>\n",
              "    <tr>\n",
              "      <th>4</th>\n",
              "      <td>1075358</td>\n",
              "      <td>1311748</td>\n",
              "      <td>3000</td>\n",
              "      <td>3000</td>\n",
              "      <td>3000.00000</td>\n",
              "      <td>60</td>\n",
              "      <td>12.69</td>\n",
              "      <td>67.79</td>\n",
              "      <td>B</td>\n",
              "      <td>B5</td>\n",
              "      <td>...</td>\n",
              "      <td>3242.17</td>\n",
              "      <td>2233.10</td>\n",
              "      <td>1009.07</td>\n",
              "      <td>0.00</td>\n",
              "      <td>0.00</td>\n",
              "      <td>0.00</td>\n",
              "      <td>Jan-16</td>\n",
              "      <td>67.79</td>\n",
              "      <td>Jan-16</td>\n",
              "      <td>INDIVIDUAL</td>\n",
              "    </tr>\n",
              "    <tr>\n",
              "      <th>...</th>\n",
              "      <td>...</td>\n",
              "      <td>...</td>\n",
              "      <td>...</td>\n",
              "      <td>...</td>\n",
              "      <td>...</td>\n",
              "      <td>...</td>\n",
              "      <td>...</td>\n",
              "      <td>...</td>\n",
              "      <td>...</td>\n",
              "      <td>...</td>\n",
              "      <td>...</td>\n",
              "      <td>...</td>\n",
              "      <td>...</td>\n",
              "      <td>...</td>\n",
              "      <td>...</td>\n",
              "      <td>...</td>\n",
              "      <td>...</td>\n",
              "      <td>...</td>\n",
              "      <td>...</td>\n",
              "      <td>...</td>\n",
              "      <td>...</td>\n",
              "    </tr>\n",
              "    <tr>\n",
              "      <th>994</th>\n",
              "      <td>1057818</td>\n",
              "      <td>1289186</td>\n",
              "      <td>7000</td>\n",
              "      <td>7000</td>\n",
              "      <td>7000.00000</td>\n",
              "      <td>36</td>\n",
              "      <td>8.90</td>\n",
              "      <td>222.28</td>\n",
              "      <td>A</td>\n",
              "      <td>A5</td>\n",
              "      <td>...</td>\n",
              "      <td>8000.34</td>\n",
              "      <td>7000.00</td>\n",
              "      <td>1000.34</td>\n",
              "      <td>0.00</td>\n",
              "      <td>0.00</td>\n",
              "      <td>0.00</td>\n",
              "      <td>Dec-14</td>\n",
              "      <td>229.64</td>\n",
              "      <td>Dec-14</td>\n",
              "      <td>INDIVIDUAL</td>\n",
              "    </tr>\n",
              "    <tr>\n",
              "      <th>995</th>\n",
              "      <td>1057629</td>\n",
              "      <td>1289394</td>\n",
              "      <td>2425</td>\n",
              "      <td>2425</td>\n",
              "      <td>2425.00000</td>\n",
              "      <td>36</td>\n",
              "      <td>15.27</td>\n",
              "      <td>84.39</td>\n",
              "      <td>C</td>\n",
              "      <td>C4</td>\n",
              "      <td>...</td>\n",
              "      <td>3052.79</td>\n",
              "      <td>2424.99</td>\n",
              "      <td>612.80</td>\n",
              "      <td>15.00</td>\n",
              "      <td>0.00</td>\n",
              "      <td>0.00</td>\n",
              "      <td>Jan-15</td>\n",
              "      <td>16.06</td>\n",
              "      <td>Jul-15</td>\n",
              "      <td>INDIVIDUAL</td>\n",
              "    </tr>\n",
              "    <tr>\n",
              "      <th>996</th>\n",
              "      <td>1057621</td>\n",
              "      <td>1289385</td>\n",
              "      <td>6950</td>\n",
              "      <td>6950</td>\n",
              "      <td>6950.00000</td>\n",
              "      <td>36</td>\n",
              "      <td>9.91</td>\n",
              "      <td>223.97</td>\n",
              "      <td>B</td>\n",
              "      <td>B1</td>\n",
              "      <td>...</td>\n",
              "      <td>7349.48</td>\n",
              "      <td>6950.01</td>\n",
              "      <td>399.47</td>\n",
              "      <td>0.00</td>\n",
              "      <td>0.00</td>\n",
              "      <td>0.00</td>\n",
              "      <td>Sep-12</td>\n",
              "      <td>1560.92</td>\n",
              "      <td>Apr-14</td>\n",
              "      <td>INDIVIDUAL</td>\n",
              "    </tr>\n",
              "    <tr>\n",
              "      <th>997</th>\n",
              "      <td>1057787</td>\n",
              "      <td>1289153</td>\n",
              "      <td>12375</td>\n",
              "      <td>12375</td>\n",
              "      <td>12344.46478</td>\n",
              "      <td>36</td>\n",
              "      <td>9.91</td>\n",
              "      <td>398.79</td>\n",
              "      <td>B</td>\n",
              "      <td>B1</td>\n",
              "      <td>...</td>\n",
              "      <td>13399.63</td>\n",
              "      <td>12375.01</td>\n",
              "      <td>1058.95</td>\n",
              "      <td>0.00</td>\n",
              "      <td>0.00</td>\n",
              "      <td>0.00</td>\n",
              "      <td>Dec-12</td>\n",
              "      <td>9056.48</td>\n",
              "      <td>Jan-16</td>\n",
              "      <td>INDIVIDUAL</td>\n",
              "    </tr>\n",
              "    <tr>\n",
              "      <th>998</th>\n",
              "      <td>1057770</td>\n",
              "      <td>1289135</td>\n",
              "      <td>35000</td>\n",
              "      <td>35000</td>\n",
              "      <td>33906.19420</td>\n",
              "      <td>60</td>\n",
              "      <td>20.30</td>\n",
              "      <td>933.14</td>\n",
              "      <td>E</td>\n",
              "      <td>E5</td>\n",
              "      <td>...</td>\n",
              "      <td>42066.82</td>\n",
              "      <td>24930.60</td>\n",
              "      <td>19834.12</td>\n",
              "      <td>0.00</td>\n",
              "      <td>0.00</td>\n",
              "      <td>0.00</td>\n",
              "      <td>Jan-16</td>\n",
              "      <td>933.14</td>\n",
              "      <td>Jan-16</td>\n",
              "      <td>INDIVIDUAL</td>\n",
              "    </tr>\n",
              "  </tbody>\n",
              "</table>\n",
              "<p>999 rows × 47 columns</p>\n",
              "</div>\n",
              "      <button class=\"colab-df-convert\" onclick=\"convertToInteractive('df-2e0984b5-f6ad-4f38-83b7-68858d27185e')\"\n",
              "              title=\"Convert this dataframe to an interactive table.\"\n",
              "              style=\"display:none;\">\n",
              "        \n",
              "  <svg xmlns=\"http://www.w3.org/2000/svg\" height=\"24px\"viewBox=\"0 0 24 24\"\n",
              "       width=\"24px\">\n",
              "    <path d=\"M0 0h24v24H0V0z\" fill=\"none\"/>\n",
              "    <path d=\"M18.56 5.44l.94 2.06.94-2.06 2.06-.94-2.06-.94-.94-2.06-.94 2.06-2.06.94zm-11 1L8.5 8.5l.94-2.06 2.06-.94-2.06-.94L8.5 2.5l-.94 2.06-2.06.94zm10 10l.94 2.06.94-2.06 2.06-.94-2.06-.94-.94-2.06-.94 2.06-2.06.94z\"/><path d=\"M17.41 7.96l-1.37-1.37c-.4-.4-.92-.59-1.43-.59-.52 0-1.04.2-1.43.59L10.3 9.45l-7.72 7.72c-.78.78-.78 2.05 0 2.83L4 21.41c.39.39.9.59 1.41.59.51 0 1.02-.2 1.41-.59l7.78-7.78 2.81-2.81c.8-.78.8-2.07 0-2.86zM5.41 20L4 18.59l7.72-7.72 1.47 1.35L5.41 20z\"/>\n",
              "  </svg>\n",
              "      </button>\n",
              "      \n",
              "  <style>\n",
              "    .colab-df-container {\n",
              "      display:flex;\n",
              "      flex-wrap:wrap;\n",
              "      gap: 12px;\n",
              "    }\n",
              "\n",
              "    .colab-df-convert {\n",
              "      background-color: #E8F0FE;\n",
              "      border: none;\n",
              "      border-radius: 50%;\n",
              "      cursor: pointer;\n",
              "      display: none;\n",
              "      fill: #1967D2;\n",
              "      height: 32px;\n",
              "      padding: 0 0 0 0;\n",
              "      width: 32px;\n",
              "    }\n",
              "\n",
              "    .colab-df-convert:hover {\n",
              "      background-color: #E2EBFA;\n",
              "      box-shadow: 0px 1px 2px rgba(60, 64, 67, 0.3), 0px 1px 3px 1px rgba(60, 64, 67, 0.15);\n",
              "      fill: #174EA6;\n",
              "    }\n",
              "\n",
              "    [theme=dark] .colab-df-convert {\n",
              "      background-color: #3B4455;\n",
              "      fill: #D2E3FC;\n",
              "    }\n",
              "\n",
              "    [theme=dark] .colab-df-convert:hover {\n",
              "      background-color: #434B5C;\n",
              "      box-shadow: 0px 1px 3px 1px rgba(0, 0, 0, 0.15);\n",
              "      filter: drop-shadow(0px 1px 2px rgba(0, 0, 0, 0.3));\n",
              "      fill: #FFFFFF;\n",
              "    }\n",
              "  </style>\n",
              "\n",
              "      <script>\n",
              "        const buttonEl =\n",
              "          document.querySelector('#df-2e0984b5-f6ad-4f38-83b7-68858d27185e button.colab-df-convert');\n",
              "        buttonEl.style.display =\n",
              "          google.colab.kernel.accessAllowed ? 'block' : 'none';\n",
              "\n",
              "        async function convertToInteractive(key) {\n",
              "          const element = document.querySelector('#df-2e0984b5-f6ad-4f38-83b7-68858d27185e');\n",
              "          const dataTable =\n",
              "            await google.colab.kernel.invokeFunction('convertToInteractive',\n",
              "                                                     [key], {});\n",
              "          if (!dataTable) return;\n",
              "\n",
              "          const docLinkHtml = 'Like what you see? Visit the ' +\n",
              "            '<a target=\"_blank\" href=https://colab.research.google.com/notebooks/data_table.ipynb>data table notebook</a>'\n",
              "            + ' to learn more about interactive tables.';\n",
              "          element.innerHTML = '';\n",
              "          dataTable['output_type'] = 'display_data';\n",
              "          await google.colab.output.renderOutput(dataTable, element);\n",
              "          const docLink = document.createElement('div');\n",
              "          docLink.innerHTML = docLinkHtml;\n",
              "          element.appendChild(docLink);\n",
              "        }\n",
              "      </script>\n",
              "    </div>\n",
              "  </div>\n",
              "  "
            ]
          },
          "metadata": {},
          "execution_count": 36
        }
      ]
    },
    {
      "cell_type": "markdown",
      "source": [
        "Fully Paid, Current and Charged Off is represented as Ok and the rest as Not Ok"
      ],
      "metadata": {
        "id": "gJXR6THVK6Y6"
      }
    },
    {
      "cell_type": "code",
      "source": [
        "data['loan_status'] = np.where(data['loan_status'] == 'Fully Paid', \"Ok\", data['loan_status'])\n",
        "data['loan_status'] = np.where(data['loan_status'] == 'Current', \"Ok\", data['loan_status'])\n",
        "data['loan_status'] = np.where(data['loan_status'] == 'Charged Off', \"Ok\", data['loan_status'])\n",
        "data['loan_status'] = np.where(data['loan_status'] == 'Late (31-120 days)', \"Not Ok\", data['loan_status'])\n",
        "data['loan_status'] = np.where(data['loan_status'] == 'Default', \"Not Ok\", data['loan_status'])\n",
        "data['loan_status']"
      ],
      "metadata": {
        "colab": {
          "base_uri": "https://localhost:8080/"
        },
        "id": "aXMnU512y3if",
        "outputId": "ffff49dc-7bf3-4cfc-f1a0-d06e8a94c764"
      },
      "execution_count": null,
      "outputs": [
        {
          "output_type": "execute_result",
          "data": {
            "text/plain": [
              "0      Ok\n",
              "1      Ok\n",
              "2      Ok\n",
              "3      Ok\n",
              "4      Ok\n",
              "       ..\n",
              "994    Ok\n",
              "995    Ok\n",
              "996    Ok\n",
              "997    Ok\n",
              "998    Ok\n",
              "Name: loan_status, Length: 999, dtype: object"
            ]
          },
          "metadata": {},
          "execution_count": 37
        }
      ]
    },
    {
      "cell_type": "code",
      "source": [
        "missing_columns = data.columns[data.isna().any()].tolist()\n",
        "missing_columns"
      ],
      "metadata": {
        "colab": {
          "base_uri": "https://localhost:8080/"
        },
        "id": "KiD9zHUHz1KG",
        "outputId": "8c2ef50f-8883-4b75-d203-f96a800003cd"
      },
      "execution_count": null,
      "outputs": [
        {
          "output_type": "execute_result",
          "data": {
            "text/plain": [
              "['emp_title',\n",
              " 'mths_since_last_delinq',\n",
              " 'mths_since_last_record',\n",
              " 'last_pymnt_d']"
            ]
          },
          "metadata": {},
          "execution_count": 38
        }
      ]
    },
    {
      "cell_type": "code",
      "source": [
        "data[\"mths_since_last_delinq\"]"
      ],
      "metadata": {
        "colab": {
          "base_uri": "https://localhost:8080/"
        },
        "id": "v3j2hyQ-0L6d",
        "outputId": "4e88a26c-3326-4f61-aefd-37e8c4c072a3"
      },
      "execution_count": null,
      "outputs": [
        {
          "output_type": "execute_result",
          "data": {
            "text/plain": [
              "0       NaN\n",
              "1       NaN\n",
              "2       NaN\n",
              "3      35.0\n",
              "4      38.0\n",
              "       ... \n",
              "994    71.0\n",
              "995    19.0\n",
              "996     NaN\n",
              "997     NaN\n",
              "998     NaN\n",
              "Name: mths_since_last_delinq, Length: 999, dtype: float64"
            ]
          },
          "metadata": {},
          "execution_count": 39
        }
      ]
    },
    {
      "cell_type": "code",
      "source": [
        "minVal = data[\"mths_since_last_delinq\"].min()"
      ],
      "metadata": {
        "id": "jepd2Zb_0jqk"
      },
      "execution_count": null,
      "outputs": []
    },
    {
      "cell_type": "code",
      "source": [
        "maxVal = data[\"mths_since_last_delinq\"].max()"
      ],
      "metadata": {
        "id": "oJq6PYXe1Vt7"
      },
      "execution_count": null,
      "outputs": []
    },
    {
      "cell_type": "markdown",
      "source": [
        "Since there are a lot of missing values, filling in those with the mean won't be a good option. Hence, random values between and including the minimum and the maximum of the current values are assigned to each missing value."
      ],
      "metadata": {
        "id": "0JqFdneHLEpZ"
      }
    },
    {
      "cell_type": "code",
      "source": [
        "import random\n",
        "while(data[\"mths_since_last_delinq\"].isnull().sum()!=0):\n",
        "    data[\"mths_since_last_delinq\"].fillna(random.randint(minVal,maxVal),inplace=True,limit=1)"
      ],
      "metadata": {
        "id": "2RzN7e2m2Uds"
      },
      "execution_count": null,
      "outputs": []
    },
    {
      "cell_type": "code",
      "source": [
        "data['mths_since_last_delinq']"
      ],
      "metadata": {
        "colab": {
          "base_uri": "https://localhost:8080/"
        },
        "id": "PvJa-6Av1uCD",
        "outputId": "8e1979fd-0a08-4367-a1de-761240965344"
      },
      "execution_count": null,
      "outputs": [
        {
          "output_type": "execute_result",
          "data": {
            "text/plain": [
              "0      46.0\n",
              "1      16.0\n",
              "2       3.0\n",
              "3      35.0\n",
              "4      38.0\n",
              "       ... \n",
              "994    71.0\n",
              "995    19.0\n",
              "996     8.0\n",
              "997    76.0\n",
              "998    58.0\n",
              "Name: mths_since_last_delinq, Length: 999, dtype: float64"
            ]
          },
          "metadata": {},
          "execution_count": 43
        }
      ]
    },
    {
      "cell_type": "code",
      "source": [
        "missing_columns = data.columns[data.isna().any()].tolist()\n",
        "missing_columns"
      ],
      "metadata": {
        "colab": {
          "base_uri": "https://localhost:8080/"
        },
        "id": "b4X45cZC1xiL",
        "outputId": "e59b0a9c-75ba-4dcf-e9c4-349c41f16cdd"
      },
      "execution_count": null,
      "outputs": [
        {
          "output_type": "execute_result",
          "data": {
            "text/plain": [
              "['emp_title', 'mths_since_last_record', 'last_pymnt_d']"
            ]
          },
          "metadata": {},
          "execution_count": 44
        }
      ]
    },
    {
      "cell_type": "markdown",
      "source": [
        "Similar approach to mths_since_last_deling"
      ],
      "metadata": {
        "id": "0BW-HvdeLSRC"
      }
    },
    {
      "cell_type": "code",
      "source": [
        "minVal_two = data[\"mths_since_last_record\"].min()\n",
        "maxVal_two = data[\"mths_since_last_record\"].max()\n",
        "import random\n",
        "while(data[\"mths_since_last_record\"].isnull().sum()!=0):\n",
        "    data[\"mths_since_last_record\"].fillna(random.randint(minVal_two,maxVal_two),inplace=True,limit=1)\n",
        "data[\"mths_since_last_record\"]"
      ],
      "metadata": {
        "colab": {
          "base_uri": "https://localhost:8080/"
        },
        "id": "OECRv-te4q3g",
        "outputId": "ee205fd7-f9af-482e-b1d3-0dd983d65f85"
      },
      "execution_count": null,
      "outputs": [
        {
          "output_type": "execute_result",
          "data": {
            "text/plain": [
              "0       49.0\n",
              "1       98.0\n",
              "2       84.0\n",
              "3       84.0\n",
              "4      105.0\n",
              "       ...  \n",
              "994     42.0\n",
              "995     82.0\n",
              "996    102.0\n",
              "997     72.0\n",
              "998     85.0\n",
              "Name: mths_since_last_record, Length: 999, dtype: float64"
            ]
          },
          "metadata": {},
          "execution_count": 45
        }
      ]
    },
    {
      "cell_type": "code",
      "source": [
        "data[\"last_pymnt_d\"]"
      ],
      "metadata": {
        "colab": {
          "base_uri": "https://localhost:8080/"
        },
        "id": "nT2NKaTB5H8v",
        "outputId": "bd324c07-c914-4ca1-a8df-eb84d959369e"
      },
      "execution_count": null,
      "outputs": [
        {
          "output_type": "execute_result",
          "data": {
            "text/plain": [
              "0      Jan-15\n",
              "1      Apr-13\n",
              "2      Jun-14\n",
              "3      Jan-15\n",
              "4      Jan-16\n",
              "        ...  \n",
              "994    Dec-14\n",
              "995    Jan-15\n",
              "996    Sep-12\n",
              "997    Dec-12\n",
              "998    Jan-16\n",
              "Name: last_pymnt_d, Length: 999, dtype: object"
            ]
          },
          "metadata": {},
          "execution_count": 46
        }
      ]
    },
    {
      "cell_type": "code",
      "source": [
        "modeLastPymnt = data[\"last_pymnt_d\"].mode()\n",
        "modeLastPymnt"
      ],
      "metadata": {
        "colab": {
          "base_uri": "https://localhost:8080/"
        },
        "id": "wZgmyYjy5P74",
        "outputId": "6bcd6b0a-6b6b-4306-bcf7-a07c76b32325"
      },
      "execution_count": null,
      "outputs": [
        {
          "output_type": "execute_result",
          "data": {
            "text/plain": [
              "0    Dec-14\n",
              "dtype: object"
            ]
          },
          "metadata": {},
          "execution_count": 47
        }
      ]
    },
    {
      "cell_type": "markdown",
      "source": [
        "Filling in missing value with the most repeated date"
      ],
      "metadata": {
        "id": "btYbMJcKLX7r"
      }
    },
    {
      "cell_type": "code",
      "source": [
        "data[\"last_pymnt_d\"].fillna(modeLastPymnt.values[0], inplace = True)\n",
        "data[\"last_pymnt_d\"]"
      ],
      "metadata": {
        "colab": {
          "base_uri": "https://localhost:8080/"
        },
        "id": "GFQT-X396CPQ",
        "outputId": "531212e8-6303-4422-9305-c6a8752486e3"
      },
      "execution_count": null,
      "outputs": [
        {
          "output_type": "execute_result",
          "data": {
            "text/plain": [
              "0      Jan-15\n",
              "1      Apr-13\n",
              "2      Jun-14\n",
              "3      Jan-15\n",
              "4      Jan-16\n",
              "        ...  \n",
              "994    Dec-14\n",
              "995    Jan-15\n",
              "996    Sep-12\n",
              "997    Dec-12\n",
              "998    Jan-16\n",
              "Name: last_pymnt_d, Length: 999, dtype: object"
            ]
          },
          "metadata": {},
          "execution_count": 48
        }
      ]
    },
    {
      "cell_type": "code",
      "source": [
        "missing_columns = data.columns[data.isna().any()].tolist()\n",
        "missing_columns"
      ],
      "metadata": {
        "colab": {
          "base_uri": "https://localhost:8080/"
        },
        "id": "Y1ncV6De6LPj",
        "outputId": "11ef4137-57f8-47f2-8a91-c6b76cd408f1"
      },
      "execution_count": null,
      "outputs": [
        {
          "output_type": "execute_result",
          "data": {
            "text/plain": [
              "['emp_title']"
            ]
          },
          "metadata": {},
          "execution_count": 49
        }
      ]
    },
    {
      "cell_type": "markdown",
      "source": [
        "Similar to date, the missing emp_title values are replaced with most repeated title"
      ],
      "metadata": {
        "id": "YRSBVvEHLclb"
      }
    },
    {
      "cell_type": "code",
      "source": [
        "modeEmp = data[\"emp_title\"].mode()\n",
        "data[\"emp_title\"].fillna(modeEmp.values[0], inplace = True)\n",
        "data[\"emp_title\"]"
      ],
      "metadata": {
        "colab": {
          "base_uri": "https://localhost:8080/"
        },
        "id": "qnSOJQZR6SNT",
        "outputId": "15d2cc5e-6863-4fb0-91ca-ea0ea021ace2"
      },
      "execution_count": null,
      "outputs": [
        {
          "output_type": "execute_result",
          "data": {
            "text/plain": [
              "0                       Bank of America\n",
              "1                                 Ryder\n",
              "2                       Bank of America\n",
              "3                   AIR RESOURCES BOARD\n",
              "4              University Medical Group\n",
              "                     ...               \n",
              "994                  Harvard University\n",
              "995                         Lime Energy\n",
              "996                      Real Mex Foods\n",
              "997                     JP Morgan Chase\n",
              "998    Regional Transportation District\n",
              "Name: emp_title, Length: 999, dtype: object"
            ]
          },
          "metadata": {},
          "execution_count": 50
        }
      ]
    },
    {
      "cell_type": "code",
      "source": [
        "missing_columns = data.columns[data.isna().any()].tolist()\n",
        "missing_columns"
      ],
      "metadata": {
        "colab": {
          "base_uri": "https://localhost:8080/"
        },
        "id": "q0Q0I2qR6lBc",
        "outputId": "7ad5c529-67c3-4585-a407-42a8e0582b9e"
      },
      "execution_count": null,
      "outputs": [
        {
          "output_type": "execute_result",
          "data": {
            "text/plain": [
              "[]"
            ]
          },
          "metadata": {},
          "execution_count": 51
        }
      ]
    },
    {
      "cell_type": "markdown",
      "source": [
        "Saving the file as cleaned.csv"
      ],
      "metadata": {
        "id": "-8rKxGbhLsfz"
      }
    },
    {
      "cell_type": "code",
      "source": [
        "data.to_csv(\"cleaned.csv\")"
      ],
      "metadata": {
        "id": "ebITFTPg6nak"
      },
      "execution_count": null,
      "outputs": []
    },
    {
      "cell_type": "code",
      "source": [
        "import seaborn as sns\n",
        "import matplotlib.pyplot as plt"
      ],
      "metadata": {
        "id": "DWfdeny461Jb"
      },
      "execution_count": null,
      "outputs": []
    },
    {
      "cell_type": "code",
      "source": [
        "data1 = pd.read_csv('cleaned.csv')"
      ],
      "metadata": {
        "id": "nB1McRkhNDrn"
      },
      "execution_count": null,
      "outputs": []
    },
    {
      "cell_type": "markdown",
      "source": [
        "Generating Analysis Tables"
      ],
      "metadata": {
        "id": "ETh-uugmSScr"
      }
    },
    {
      "cell_type": "markdown",
      "source": [
        "Grouping the records based on their grade and counting occurrences of each grade. This analysis can further be used for multiple analysis such as which grade has most employees, which grade has least employees etc. "
      ],
      "metadata": {
        "id": "EdDhsGLbSWKz"
      }
    },
    {
      "cell_type": "code",
      "source": [
        "gradeGrouped = data1.groupby('grade')['grade']\n",
        "gradeCount = gradeGrouped.count()\n",
        "gradeCount"
      ],
      "metadata": {
        "colab": {
          "base_uri": "https://localhost:8080/"
        },
        "id": "Tfp7HxuANLkn",
        "outputId": "099c4fa7-316e-4ac5-f44b-e9a1d0d018df"
      },
      "execution_count": null,
      "outputs": [
        {
          "output_type": "execute_result",
          "data": {
            "text/plain": [
              "grade\n",
              "A    202\n",
              "B    354\n",
              "C    207\n",
              "D    138\n",
              "E     72\n",
              "F     21\n",
              "G      5\n",
              "Name: grade, dtype: int64"
            ]
          },
          "metadata": {},
          "execution_count": 25
        }
      ]
    },
    {
      "cell_type": "markdown",
      "source": [
        "Grouping based on the term value and checking average loan amount for each term. Can help us see which term has a higher loan amount."
      ],
      "metadata": {
        "id": "Ajajy-KFTtm-"
      }
    },
    {
      "cell_type": "code",
      "source": [
        "loanAmount = data1.groupby(\"term\")[\"loan_amnt\"]\n",
        "amountMean = loanAmount.mean()\n",
        "amountMean"
      ],
      "metadata": {
        "colab": {
          "base_uri": "https://localhost:8080/"
        },
        "id": "gJ11WezvR5Mh",
        "outputId": "db0878a6-b07f-4eae-e4da-8e7c06d72fab"
      },
      "execution_count": null,
      "outputs": [
        {
          "output_type": "execute_result",
          "data": {
            "text/plain": [
              "term\n",
              "36    10783.206897\n",
              "60    17787.682482\n",
              "Name: loan_amnt, dtype: float64"
            ]
          },
          "metadata": {},
          "execution_count": 28
        }
      ]
    },
    {
      "cell_type": "code",
      "source": [
        "loanStatus = data1.groupby(\"loan_status\")['id']\n",
        "loanStatus.count()"
      ],
      "metadata": {
        "colab": {
          "base_uri": "https://localhost:8080/"
        },
        "id": "VW7FTcV4W6O2",
        "outputId": "258fc1d2-60a0-4eb5-b598-e27ca024c241"
      },
      "execution_count": null,
      "outputs": [
        {
          "output_type": "execute_result",
          "data": {
            "text/plain": [
              "loan_status\n",
              "Not Ok      3\n",
              "Ok        996\n",
              "Name: id, dtype: int64"
            ]
          },
          "metadata": {},
          "execution_count": 35
        }
      ]
    },
    {
      "cell_type": "markdown",
      "source": [
        "This can be a useful analysis to check the average annual income of employees that took loan of a common type. For example, the employees who took a house loan had the highest average annual income."
      ],
      "metadata": {
        "id": "RnRWDGObY_18"
      }
    },
    {
      "cell_type": "code",
      "source": [
        "annualIncome = data1.groupby(\"purpose\")[\"annual_inc\"]\n",
        "purpose = annualIncome.mean()\n",
        "purpose"
      ],
      "metadata": {
        "colab": {
          "base_uri": "https://localhost:8080/"
        },
        "id": "9ZbcHEutXbp4",
        "outputId": "11673bdb-3eab-4484-8a4e-73339b8559a8"
      },
      "execution_count": null,
      "outputs": [
        {
          "output_type": "execute_result",
          "data": {
            "text/plain": [
              "purpose\n",
              "car                   53140.909091\n",
              "credit_card           61722.998690\n",
              "debt_consolidation    61587.341385\n",
              "home_improvement      76984.648649\n",
              "house                 80714.285714\n",
              "major_purchase        71590.157895\n",
              "medical               55926.636364\n",
              "moving                46651.200000\n",
              "other                 58120.396190\n",
              "renewable_energy      42000.000000\n",
              "small_business        66042.514286\n",
              "vacation              70118.000000\n",
              "wedding               53850.000000\n",
              "Name: annual_inc, dtype: float64"
            ]
          },
          "metadata": {},
          "execution_count": 57
        }
      ]
    },
    {
      "cell_type": "markdown",
      "source": [
        "Grouping based on employee grade level and checking for average, min and max loan amount for each grade. Surprisingly, the max for each grade except for grade G, was same at 35000. There was a good spread for minimum loan amount."
      ],
      "metadata": {
        "id": "E_2VcceDkIU_"
      }
    },
    {
      "cell_type": "code",
      "source": [
        "data1.groupby(['grade']).agg({'loan_amnt': ['mean', 'min', 'max']})"
      ],
      "metadata": {
        "colab": {
          "base_uri": "https://localhost:8080/",
          "height": 332
        },
        "id": "87QvHHqLeZO6",
        "outputId": "dc70cda3-ef98-45f5-e178-0c694515baad"
      },
      "execution_count": null,
      "outputs": [
        {
          "output_type": "execute_result",
          "data": {
            "text/plain": [
              "          loan_amnt              \n",
              "               mean    min    max\n",
              "grade                            \n",
              "A      10771.039604   1400  35000\n",
              "B      11762.853107   1200  35000\n",
              "C      12293.236715   1000  35000\n",
              "D      13523.369565   1000  35000\n",
              "E      20120.138889   1500  35000\n",
              "F      18825.000000   5000  35000\n",
              "G      19390.000000  12375  24925"
            ],
            "text/html": [
              "\n",
              "  <div id=\"df-97fa6e03-d87b-4be9-b780-5ab9d3769418\">\n",
              "    <div class=\"colab-df-container\">\n",
              "      <div>\n",
              "<style scoped>\n",
              "    .dataframe tbody tr th:only-of-type {\n",
              "        vertical-align: middle;\n",
              "    }\n",
              "\n",
              "    .dataframe tbody tr th {\n",
              "        vertical-align: top;\n",
              "    }\n",
              "\n",
              "    .dataframe thead tr th {\n",
              "        text-align: left;\n",
              "    }\n",
              "\n",
              "    .dataframe thead tr:last-of-type th {\n",
              "        text-align: right;\n",
              "    }\n",
              "</style>\n",
              "<table border=\"1\" class=\"dataframe\">\n",
              "  <thead>\n",
              "    <tr>\n",
              "      <th></th>\n",
              "      <th colspan=\"3\" halign=\"left\">loan_amnt</th>\n",
              "    </tr>\n",
              "    <tr>\n",
              "      <th></th>\n",
              "      <th>mean</th>\n",
              "      <th>min</th>\n",
              "      <th>max</th>\n",
              "    </tr>\n",
              "    <tr>\n",
              "      <th>grade</th>\n",
              "      <th></th>\n",
              "      <th></th>\n",
              "      <th></th>\n",
              "    </tr>\n",
              "  </thead>\n",
              "  <tbody>\n",
              "    <tr>\n",
              "      <th>A</th>\n",
              "      <td>10771.039604</td>\n",
              "      <td>1400</td>\n",
              "      <td>35000</td>\n",
              "    </tr>\n",
              "    <tr>\n",
              "      <th>B</th>\n",
              "      <td>11762.853107</td>\n",
              "      <td>1200</td>\n",
              "      <td>35000</td>\n",
              "    </tr>\n",
              "    <tr>\n",
              "      <th>C</th>\n",
              "      <td>12293.236715</td>\n",
              "      <td>1000</td>\n",
              "      <td>35000</td>\n",
              "    </tr>\n",
              "    <tr>\n",
              "      <th>D</th>\n",
              "      <td>13523.369565</td>\n",
              "      <td>1000</td>\n",
              "      <td>35000</td>\n",
              "    </tr>\n",
              "    <tr>\n",
              "      <th>E</th>\n",
              "      <td>20120.138889</td>\n",
              "      <td>1500</td>\n",
              "      <td>35000</td>\n",
              "    </tr>\n",
              "    <tr>\n",
              "      <th>F</th>\n",
              "      <td>18825.000000</td>\n",
              "      <td>5000</td>\n",
              "      <td>35000</td>\n",
              "    </tr>\n",
              "    <tr>\n",
              "      <th>G</th>\n",
              "      <td>19390.000000</td>\n",
              "      <td>12375</td>\n",
              "      <td>24925</td>\n",
              "    </tr>\n",
              "  </tbody>\n",
              "</table>\n",
              "</div>\n",
              "      <button class=\"colab-df-convert\" onclick=\"convertToInteractive('df-97fa6e03-d87b-4be9-b780-5ab9d3769418')\"\n",
              "              title=\"Convert this dataframe to an interactive table.\"\n",
              "              style=\"display:none;\">\n",
              "        \n",
              "  <svg xmlns=\"http://www.w3.org/2000/svg\" height=\"24px\"viewBox=\"0 0 24 24\"\n",
              "       width=\"24px\">\n",
              "    <path d=\"M0 0h24v24H0V0z\" fill=\"none\"/>\n",
              "    <path d=\"M18.56 5.44l.94 2.06.94-2.06 2.06-.94-2.06-.94-.94-2.06-.94 2.06-2.06.94zm-11 1L8.5 8.5l.94-2.06 2.06-.94-2.06-.94L8.5 2.5l-.94 2.06-2.06.94zm10 10l.94 2.06.94-2.06 2.06-.94-2.06-.94-.94-2.06-.94 2.06-2.06.94z\"/><path d=\"M17.41 7.96l-1.37-1.37c-.4-.4-.92-.59-1.43-.59-.52 0-1.04.2-1.43.59L10.3 9.45l-7.72 7.72c-.78.78-.78 2.05 0 2.83L4 21.41c.39.39.9.59 1.41.59.51 0 1.02-.2 1.41-.59l7.78-7.78 2.81-2.81c.8-.78.8-2.07 0-2.86zM5.41 20L4 18.59l7.72-7.72 1.47 1.35L5.41 20z\"/>\n",
              "  </svg>\n",
              "      </button>\n",
              "      \n",
              "  <style>\n",
              "    .colab-df-container {\n",
              "      display:flex;\n",
              "      flex-wrap:wrap;\n",
              "      gap: 12px;\n",
              "    }\n",
              "\n",
              "    .colab-df-convert {\n",
              "      background-color: #E8F0FE;\n",
              "      border: none;\n",
              "      border-radius: 50%;\n",
              "      cursor: pointer;\n",
              "      display: none;\n",
              "      fill: #1967D2;\n",
              "      height: 32px;\n",
              "      padding: 0 0 0 0;\n",
              "      width: 32px;\n",
              "    }\n",
              "\n",
              "    .colab-df-convert:hover {\n",
              "      background-color: #E2EBFA;\n",
              "      box-shadow: 0px 1px 2px rgba(60, 64, 67, 0.3), 0px 1px 3px 1px rgba(60, 64, 67, 0.15);\n",
              "      fill: #174EA6;\n",
              "    }\n",
              "\n",
              "    [theme=dark] .colab-df-convert {\n",
              "      background-color: #3B4455;\n",
              "      fill: #D2E3FC;\n",
              "    }\n",
              "\n",
              "    [theme=dark] .colab-df-convert:hover {\n",
              "      background-color: #434B5C;\n",
              "      box-shadow: 0px 1px 3px 1px rgba(0, 0, 0, 0.15);\n",
              "      filter: drop-shadow(0px 1px 2px rgba(0, 0, 0, 0.3));\n",
              "      fill: #FFFFFF;\n",
              "    }\n",
              "  </style>\n",
              "\n",
              "      <script>\n",
              "        const buttonEl =\n",
              "          document.querySelector('#df-97fa6e03-d87b-4be9-b780-5ab9d3769418 button.colab-df-convert');\n",
              "        buttonEl.style.display =\n",
              "          google.colab.kernel.accessAllowed ? 'block' : 'none';\n",
              "\n",
              "        async function convertToInteractive(key) {\n",
              "          const element = document.querySelector('#df-97fa6e03-d87b-4be9-b780-5ab9d3769418');\n",
              "          const dataTable =\n",
              "            await google.colab.kernel.invokeFunction('convertToInteractive',\n",
              "                                                     [key], {});\n",
              "          if (!dataTable) return;\n",
              "\n",
              "          const docLinkHtml = 'Like what you see? Visit the ' +\n",
              "            '<a target=\"_blank\" href=https://colab.research.google.com/notebooks/data_table.ipynb>data table notebook</a>'\n",
              "            + ' to learn more about interactive tables.';\n",
              "          element.innerHTML = '';\n",
              "          dataTable['output_type'] = 'display_data';\n",
              "          await google.colab.output.renderOutput(dataTable, element);\n",
              "          const docLink = document.createElement('div');\n",
              "          docLink.innerHTML = docLinkHtml;\n",
              "          element.appendChild(docLink);\n",
              "        }\n",
              "      </script>\n",
              "    </div>\n",
              "  </div>\n",
              "  "
            ]
          },
          "metadata": {},
          "execution_count": 67
        }
      ]
    },
    {
      "cell_type": "markdown",
      "source": [
        "### Univariate Analysis"
      ],
      "metadata": {
        "id": "6k3wBlpwUXVY"
      }
    },
    {
      "cell_type": "markdown",
      "source": [
        "Bar graph to check for the distribution of grades"
      ],
      "metadata": {
        "id": "GA5b1scxkAe_"
      }
    },
    {
      "cell_type": "code",
      "source": [
        "gradeCount.plot(kind='bar')"
      ],
      "metadata": {
        "colab": {
          "base_uri": "https://localhost:8080/",
          "height": 294
        },
        "id": "d4UKLZz6TB1U",
        "outputId": "0e823e6f-b224-41b5-ad2b-cbfd5a6ab0aa"
      },
      "execution_count": null,
      "outputs": [
        {
          "output_type": "execute_result",
          "data": {
            "text/plain": [
              "<matplotlib.axes._subplots.AxesSubplot at 0x7f10dfb90dc0>"
            ]
          },
          "metadata": {},
          "execution_count": 27
        },
        {
          "output_type": "display_data",
          "data": {
            "text/plain": [
              "<Figure size 432x288 with 1 Axes>"
            ],
            "image/png": "[encoded data removed]"
          },
          "metadata": {
            "needs_background": "light"
          }
        }
      ]
    },
    {
      "cell_type": "code",
      "source": [
        "amountMean.plot(kind='hist')"
      ],
      "metadata": {
        "colab": {
          "base_uri": "https://localhost:8080/",
          "height": 282
        },
        "id": "ZHrI4K6uWBMn",
        "outputId": "9ac8543c-291e-4486-a010-d301aeb1ef71"
      },
      "execution_count": null,
      "outputs": [
        {
          "output_type": "execute_result",
          "data": {
            "text/plain": [
              "<matplotlib.axes._subplots.AxesSubplot at 0x7f10dfafee20>"
            ]
          },
          "metadata": {},
          "execution_count": 31
        },
        {
          "output_type": "display_data",
          "data": {
            "text/plain": [
              "<Figure size 432x288 with 1 Axes>"
            ],
            "image/png": "[encoded data removed]"
          },
          "metadata": {
            "needs_background": "light"
          }
        }
      ]
    },
    {
      "cell_type": "markdown",
      "source": [
        "### Bivariate"
      ],
      "metadata": {
        "id": "WjmcpHpOaBQe"
      }
    },
    {
      "cell_type": "markdown",
      "source": [
        "Plotting annual income against the purpose of loan to check any correlation and trend between the two quantitiese. As it can be seen, majority of the employees who took loan for debt_consolidation had their annual income saturated around 50,000 - 100,000 "
      ],
      "metadata": {
        "id": "a8p1kau9asRZ"
      }
    },
    {
      "cell_type": "code",
      "source": [
        "data1.plot.scatter(\n",
        "    x='annual_inc', y='purpose', c='blue', cmap='viridis')"
      ],
      "metadata": {
        "colab": {
          "base_uri": "https://localhost:8080/",
          "height": 297
        },
        "id": "6se3rO46Z9RF",
        "outputId": "1aef7d6b-4d08-4c50-aae2-9e83ea924a77"
      },
      "execution_count": null,
      "outputs": [
        {
          "output_type": "execute_result",
          "data": {
            "text/plain": [
              "<matplotlib.axes._subplots.AxesSubplot at 0x7f10dfa27280>"
            ]
          },
          "metadata": {},
          "execution_count": 59
        },
        {
          "output_type": "display_data",
          "data": {
            "text/plain": [
              "<Figure size 432x288 with 1 Axes>"
            ],
            "image/png": "[encoded data removed]"
          },
          "metadata": {
            "needs_background": "light"
          }
        }
      ]
    },
    {
      "cell_type": "markdown",
      "source": [
        "Shows almost linear behaviour between installment amounts and the total loan ammount taken by employees. One with higher loan amounts seem to have higher installments. "
      ],
      "metadata": {
        "id": "boy7Z2tOctNs"
      }
    },
    {
      "cell_type": "code",
      "source": [
        "data1.plot.scatter(\n",
        "    x='installment', y='loan_amnt', c='red', cmap='viridis')"
      ],
      "metadata": {
        "colab": {
          "base_uri": "https://localhost:8080/",
          "height": 296
        },
        "id": "NHlPqQxMaiEm",
        "outputId": "02dcca91-a136-4562-cfe8-f6ba9509d48e"
      },
      "execution_count": null,
      "outputs": [
        {
          "output_type": "execute_result",
          "data": {
            "text/plain": [
              "<matplotlib.axes._subplots.AxesSubplot at 0x7f10df8fb7c0>"
            ]
          },
          "metadata": {},
          "execution_count": 62
        },
        {
          "output_type": "display_data",
          "data": {
            "text/plain": [
              "<Figure size 432x288 with 1 Axes>"
            ],
            "image/png": "[encoded data removed]"
          },
          "metadata": {
            "needs_background": "light"
          }
        }
      ]
    },
    {
      "cell_type": "code",
      "source": [
        "correlation = data1[['loan_amnt', 'int_rate', 'installment', 'annual_inc']].corr()\n",
        "correlation"
      ],
      "metadata": {
        "colab": {
          "base_uri": "https://localhost:8080/",
          "height": 175
        },
        "id": "JaTwAn1Egzvf",
        "outputId": "780ba5a7-7867-4306-feba-ca28679170c0"
      },
      "execution_count": null,
      "outputs": [
        {
          "output_type": "execute_result",
          "data": {
            "text/plain": [
              "             loan_amnt  int_rate  installment  annual_inc\n",
              "loan_amnt     1.000000  0.287743     0.888649    0.427631\n",
              "int_rate      0.287743  1.000000     0.176843    0.085052\n",
              "installment   0.888649  0.176843     1.000000    0.391628\n",
              "annual_inc    0.427631  0.085052     0.391628    1.000000"
            ],
            "text/html": [
              "\n",
              "  <div id=\"df-29f88c8d-8d11-4cf6-8e54-3bcb0c9369ca\">\n",
              "    <div class=\"colab-df-container\">\n",
              "      <div>\n",
              "<style scoped>\n",
              "    .dataframe tbody tr th:only-of-type {\n",
              "        vertical-align: middle;\n",
              "    }\n",
              "\n",
              "    .dataframe tbody tr th {\n",
              "        vertical-align: top;\n",
              "    }\n",
              "\n",
              "    .dataframe thead th {\n",
              "        text-align: right;\n",
              "    }\n",
              "</style>\n",
              "<table border=\"1\" class=\"dataframe\">\n",
              "  <thead>\n",
              "    <tr style=\"text-align: right;\">\n",
              "      <th></th>\n",
              "      <th>loan_amnt</th>\n",
              "      <th>int_rate</th>\n",
              "      <th>installment</th>\n",
              "      <th>annual_inc</th>\n",
              "    </tr>\n",
              "  </thead>\n",
              "  <tbody>\n",
              "    <tr>\n",
              "      <th>loan_amnt</th>\n",
              "      <td>1.000000</td>\n",
              "      <td>0.287743</td>\n",
              "      <td>0.888649</td>\n",
              "      <td>0.427631</td>\n",
              "    </tr>\n",
              "    <tr>\n",
              "      <th>int_rate</th>\n",
              "      <td>0.287743</td>\n",
              "      <td>1.000000</td>\n",
              "      <td>0.176843</td>\n",
              "      <td>0.085052</td>\n",
              "    </tr>\n",
              "    <tr>\n",
              "      <th>installment</th>\n",
              "      <td>0.888649</td>\n",
              "      <td>0.176843</td>\n",
              "      <td>1.000000</td>\n",
              "      <td>0.391628</td>\n",
              "    </tr>\n",
              "    <tr>\n",
              "      <th>annual_inc</th>\n",
              "      <td>0.427631</td>\n",
              "      <td>0.085052</td>\n",
              "      <td>0.391628</td>\n",
              "      <td>1.000000</td>\n",
              "    </tr>\n",
              "  </tbody>\n",
              "</table>\n",
              "</div>\n",
              "      <button class=\"colab-df-convert\" onclick=\"convertToInteractive('df-29f88c8d-8d11-4cf6-8e54-3bcb0c9369ca')\"\n",
              "              title=\"Convert this dataframe to an interactive table.\"\n",
              "              style=\"display:none;\">\n",
              "        \n",
              "  <svg xmlns=\"http://www.w3.org/2000/svg\" height=\"24px\"viewBox=\"0 0 24 24\"\n",
              "       width=\"24px\">\n",
              "    <path d=\"M0 0h24v24H0V0z\" fill=\"none\"/>\n",
              "    <path d=\"M18.56 5.44l.94 2.06.94-2.06 2.06-.94-2.06-.94-.94-2.06-.94 2.06-2.06.94zm-11 1L8.5 8.5l.94-2.06 2.06-.94-2.06-.94L8.5 2.5l-.94 2.06-2.06.94zm10 10l.94 2.06.94-2.06 2.06-.94-2.06-.94-.94-2.06-.94 2.06-2.06.94z\"/><path d=\"M17.41 7.96l-1.37-1.37c-.4-.4-.92-.59-1.43-.59-.52 0-1.04.2-1.43.59L10.3 9.45l-7.72 7.72c-.78.78-.78 2.05 0 2.83L4 21.41c.39.39.9.59 1.41.59.51 0 1.02-.2 1.41-.59l7.78-7.78 2.81-2.81c.8-.78.8-2.07 0-2.86zM5.41 20L4 18.59l7.72-7.72 1.47 1.35L5.41 20z\"/>\n",
              "  </svg>\n",
              "      </button>\n",
              "      \n",
              "  <style>\n",
              "    .colab-df-container {\n",
              "      display:flex;\n",
              "      flex-wrap:wrap;\n",
              "      gap: 12px;\n",
              "    }\n",
              "\n",
              "    .colab-df-convert {\n",
              "      background-color: #E8F0FE;\n",
              "      border: none;\n",
              "      border-radius: 50%;\n",
              "      cursor: pointer;\n",
              "      display: none;\n",
              "      fill: #1967D2;\n",
              "      height: 32px;\n",
              "      padding: 0 0 0 0;\n",
              "      width: 32px;\n",
              "    }\n",
              "\n",
              "    .colab-df-convert:hover {\n",
              "      background-color: #E2EBFA;\n",
              "      box-shadow: 0px 1px 2px rgba(60, 64, 67, 0.3), 0px 1px 3px 1px rgba(60, 64, 67, 0.15);\n",
              "      fill: #174EA6;\n",
              "    }\n",
              "\n",
              "    [theme=dark] .colab-df-convert {\n",
              "      background-color: #3B4455;\n",
              "      fill: #D2E3FC;\n",
              "    }\n",
              "\n",
              "    [theme=dark] .colab-df-convert:hover {\n",
              "      background-color: #434B5C;\n",
              "      box-shadow: 0px 1px 3px 1px rgba(0, 0, 0, 0.15);\n",
              "      filter: drop-shadow(0px 1px 2px rgba(0, 0, 0, 0.3));\n",
              "      fill: #FFFFFF;\n",
              "    }\n",
              "  </style>\n",
              "\n",
              "      <script>\n",
              "        const buttonEl =\n",
              "          document.querySelector('#df-29f88c8d-8d11-4cf6-8e54-3bcb0c9369ca button.colab-df-convert');\n",
              "        buttonEl.style.display =\n",
              "          google.colab.kernel.accessAllowed ? 'block' : 'none';\n",
              "\n",
              "        async function convertToInteractive(key) {\n",
              "          const element = document.querySelector('#df-29f88c8d-8d11-4cf6-8e54-3bcb0c9369ca');\n",
              "          const dataTable =\n",
              "            await google.colab.kernel.invokeFunction('convertToInteractive',\n",
              "                                                     [key], {});\n",
              "          if (!dataTable) return;\n",
              "\n",
              "          const docLinkHtml = 'Like what you see? Visit the ' +\n",
              "            '<a target=\"_blank\" href=https://colab.research.google.com/notebooks/data_table.ipynb>data table notebook</a>'\n",
              "            + ' to learn more about interactive tables.';\n",
              "          element.innerHTML = '';\n",
              "          dataTable['output_type'] = 'display_data';\n",
              "          await google.colab.output.renderOutput(dataTable, element);\n",
              "          const docLink = document.createElement('div');\n",
              "          docLink.innerHTML = docLinkHtml;\n",
              "          element.appendChild(docLink);\n",
              "        }\n",
              "      </script>\n",
              "    </div>\n",
              "  </div>\n",
              "  "
            ]
          },
          "metadata": {},
          "execution_count": 71
        }
      ]
    },
    {
      "cell_type": "markdown",
      "source": [
        "Correlation plot for total amount, interest rate, installment amount and the annual income of the employee. This can be a very useful analysis to check for any trend between the total loan amount taken and the annual income of each employee alongwith with checking for any relation between interest rates and the installment amounts. For example, it may be the case that one with higher annual income will have a higher loan amount and will be able to pay a higher installment amount at a lower interest rate."
      ],
      "metadata": {
        "id": "hyOYeRgkjXrL"
      }
    },
    {
      "cell_type": "code",
      "source": [
        "plt.figure(figsize = (9,9))\n",
        "sns.heatmap(round(correlation,2),annot=True)"
      ],
      "metadata": {
        "colab": {
          "base_uri": "https://localhost:8080/",
          "height": 559
        },
        "id": "xjvbgqpGjJ7N",
        "outputId": "65786d1b-75d9-4664-92c6-bc629cb0ba6e"
      },
      "execution_count": null,
      "outputs": [
        {
          "output_type": "execute_result",
          "data": {
            "text/plain": [
              "<matplotlib.axes._subplots.AxesSubplot at 0x7f10dc82f670>"
            ]
          },
          "metadata": {},
          "execution_count": 72
        },
        {
          "output_type": "display_data",
          "data": {
            "text/plain": [
              "<Figure size 648x648 with 2 Axes>"
            ],
            "image/png": "[encoded data removed]"
          },
          "metadata": {
            "needs_background": "light"
          }
        }
      ]
    }
  ]
}