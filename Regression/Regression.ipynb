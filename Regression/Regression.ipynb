{
  "nbformat": 4,
  "nbformat_minor": 0,
  "metadata": {
    "colab": {
      "provenance": []
    },
    "kernelspec": {
      "name": "python3",
      "display_name": "Python 3"
    },
    "language_info": {
      "name": "python"
    }
  },
  "cells": [
    {
      "cell_type": "markdown",
      "source": [
        "# Regression\n",
        "## Faraz Ali\n",
        "### fa06396@st.habib.edu.pk"
      ],
      "metadata": {
        "id": "t5yxS1aSlWpA"
      }
    },
    {
      "cell_type": "markdown",
      "source": [
        "### Initialization"
      ],
      "metadata": {
        "id": "AVYF0nHIO4EH"
      }
    },
    {
      "cell_type": "code",
      "execution_count": null,
      "metadata": {
        "id": "DCIBvySwii-3"
      },
      "outputs": [],
      "source": [
        "import pandas as pd\n",
        "import statsmodels.api as sm\n",
        "from statsmodels.formula.api import ols\n",
        "import numpy as np\n",
        "import scipy\n",
        "import matplotlib.pyplot as plt"
      ]
    },
    {
      "cell_type": "code",
      "source": [
        "df = pd.read_csv('EmployeeSalaryRegression.csv')"
      ],
      "metadata": {
        "id": "uifC_bYfo-YX"
      },
      "execution_count": null,
      "outputs": []
    },
    {
      "cell_type": "markdown",
      "source": [
        "### Q1"
      ],
      "metadata": {
        "id": "yofxJv5YpqRw"
      }
    },
    {
      "cell_type": "code",
      "source": [
        "Model = sm.OLS(df['MonthlyIncome'], sm.add_constant(df['TotalWorkingYears'])).fit()\n",
        "Model.summary()"
      ],
      "metadata": {
        "colab": {
          "base_uri": "https://localhost:8080/",
          "height": 452
        },
        "id": "IqUzl-bEpnBH",
        "outputId": "c2bd6c8e-9322-4b6b-c37a-a526f05efab2"
      },
      "execution_count": null,
      "outputs": [
        {
          "output_type": "execute_result",
          "data": {
            "text/plain": [
              "<class 'statsmodels.iolib.summary.Summary'>\n",
              "\"\"\"\n",
              "                            OLS Regression Results                            \n",
              "==============================================================================\n",
              "Dep. Variable:          MonthlyIncome   R-squared:                       0.597\n",
              "Model:                            OLS   Adj. R-squared:                  0.597\n",
              "Method:                 Least Squares   F-statistic:                     2178.\n",
              "Date:                Fri, 17 Mar 2023   Prob (F-statistic):          2.73e-292\n",
              "Time:                        13:02:08   Log-Likelihood:                -13848.\n",
              "No. Observations:                1470   AIC:                         2.770e+04\n",
              "Df Residuals:                    1468   BIC:                         2.771e+04\n",
              "Df Model:                           1                                         \n",
              "Covariance Type:            nonrobust                                         \n",
              "=====================================================================================\n",
              "                        coef    std err          t      P>|t|      [0.025      0.975]\n",
              "-------------------------------------------------------------------------------------\n",
              "const              1227.9353    137.299      8.944      0.000     958.612    1497.259\n",
              "TotalWorkingYears   467.6584     10.021     46.669      0.000     448.002     487.315\n",
              "==============================================================================\n",
              "Omnibus:                       47.473   Durbin-Watson:                   1.993\n",
              "Prob(Omnibus):                  0.000   Jarque-Bera (JB):               79.304\n",
              "Skew:                           0.269   Prob(JB):                     6.02e-18\n",
              "Kurtosis:                       4.003   Cond. No.                         24.2\n",
              "==============================================================================\n",
              "\n",
              "Notes:\n",
              "[1] Standard Errors assume that the covariance matrix of the errors is correctly specified.\n",
              "\"\"\""
            ],
            "text/html": [
              "<table class=\"simpletable\">\n",
              "<caption>OLS Regression Results</caption>\n",
              "<tr>\n",
              "  <th>Dep. Variable:</th>      <td>MonthlyIncome</td>  <th>  R-squared:         </th> <td>   0.597</td> \n",
              "</tr>\n",
              "<tr>\n",
              "  <th>Model:</th>                   <td>OLS</td>       <th>  Adj. R-squared:    </th> <td>   0.597</td> \n",
              "</tr>\n",
              "<tr>\n",
              "  <th>Method:</th>             <td>Least Squares</td>  <th>  F-statistic:       </th> <td>   2178.</td> \n",
              "</tr>\n",
              "<tr>\n",
              "  <th>Date:</th>             <td>Fri, 17 Mar 2023</td> <th>  Prob (F-statistic):</th> <td>2.73e-292</td>\n",
              "</tr>\n",
              "<tr>\n",
              "  <th>Time:</th>                 <td>13:02:08</td>     <th>  Log-Likelihood:    </th> <td> -13848.</td> \n",
              "</tr>\n",
              "<tr>\n",
              "  <th>No. Observations:</th>      <td>  1470</td>      <th>  AIC:               </th> <td>2.770e+04</td>\n",
              "</tr>\n",
              "<tr>\n",
              "  <th>Df Residuals:</th>          <td>  1468</td>      <th>  BIC:               </th> <td>2.771e+04</td>\n",
              "</tr>\n",
              "<tr>\n",
              "  <th>Df Model:</th>              <td>     1</td>      <th>                     </th>     <td> </td>    \n",
              "</tr>\n",
              "<tr>\n",
              "  <th>Covariance Type:</th>      <td>nonrobust</td>    <th>                     </th>     <td> </td>    \n",
              "</tr>\n",
              "</table>\n",
              "<table class=\"simpletable\">\n",
              "<tr>\n",
              "          <td></td>             <th>coef</th>     <th>std err</th>      <th>t</th>      <th>P>|t|</th>  <th>[0.025</th>    <th>0.975]</th>  \n",
              "</tr>\n",
              "<tr>\n",
              "  <th>const</th>             <td> 1227.9353</td> <td>  137.299</td> <td>    8.944</td> <td> 0.000</td> <td>  958.612</td> <td> 1497.259</td>\n",
              "</tr>\n",
              "<tr>\n",
              "  <th>TotalWorkingYears</th> <td>  467.6584</td> <td>   10.021</td> <td>   46.669</td> <td> 0.000</td> <td>  448.002</td> <td>  487.315</td>\n",
              "</tr>\n",
              "</table>\n",
              "<table class=\"simpletable\">\n",
              "<tr>\n",
              "  <th>Omnibus:</th>       <td>47.473</td> <th>  Durbin-Watson:     </th> <td>   1.993</td>\n",
              "</tr>\n",
              "<tr>\n",
              "  <th>Prob(Omnibus):</th> <td> 0.000</td> <th>  Jarque-Bera (JB):  </th> <td>  79.304</td>\n",
              "</tr>\n",
              "<tr>\n",
              "  <th>Skew:</th>          <td> 0.269</td> <th>  Prob(JB):          </th> <td>6.02e-18</td>\n",
              "</tr>\n",
              "<tr>\n",
              "  <th>Kurtosis:</th>      <td> 4.003</td> <th>  Cond. No.          </th> <td>    24.2</td>\n",
              "</tr>\n",
              "</table><br/><br/>Notes:<br/>[1] Standard Errors assume that the covariance matrix of the errors is correctly specified."
            ]
          },
          "metadata": {},
          "execution_count": 3
        }
      ]
    },
    {
      "cell_type": "code",
      "source": [
        "plt.plot(df['TotalWorkingYears'], df['MonthlyIncome'], 'ro')\n",
        "plt.plot(df['TotalWorkingYears'], Model.fittedvalues, 'b')\n",
        "plt.legend(['Data', 'fittedModel'])\n",
        "plt.xlabel('TotalWorkingYears')\n",
        "plt.ylabel('MonthlyIncome')"
      ],
      "metadata": {
        "colab": {
          "base_uri": "https://localhost:8080/",
          "height": 296
        },
        "id": "YhAqcq-Gvsht",
        "outputId": "f3059c0a-b50f-4b97-ec05-a4ea98d0088a"
      },
      "execution_count": null,
      "outputs": [
        {
          "output_type": "execute_result",
          "data": {
            "text/plain": [
              "Text(0, 0.5, 'MonthlyIncome')"
            ]
          },
          "metadata": {},
          "execution_count": 4
        },
        {
          "output_type": "display_data",
          "data": {
            "text/plain": [
              "<Figure size 432x288 with 1 Axes>"
            ],
            "image/png": "[encoded data removed]"
          },
          "metadata": {
            "needs_background": "light"
          }
        }
      ]
    },
    {
      "cell_type": "markdown",
      "source": [
        "Starting with the value of r-squared i.e. 0.597, it means that our Regression Model cannot explain around 100 - 59.7% ≈ 40% of variability in the data. The p-value for our model is less than 0.05 which rejects the null hypothesis, in this case that there is no correlation between the two. Our result suggests that the variable TotalWorkingYears is statistically significant and that there exists a non-zero correlation between the two variables. We can also interpet results such as the const coeff of 1227.9353 ≈ 1228 which indicates that the y-intercept, or the average pay, for TotalWorkingYears being = 0 is around 1228. Secondly, the coeff 467.6584 ≈ 467 suggest that for every one unit increase in the TotalWorkingYears, the MonthlyIncome increases by around 467 units."
      ],
      "metadata": {
        "id": "9_mDRaLFqkQS"
      }
    },
    {
      "cell_type": "markdown",
      "source": [
        "### Q2"
      ],
      "metadata": {
        "id": "AZ22sok7wFnQ"
      }
    },
    {
      "cell_type": "code",
      "source": [
        "Model = sm.OLS(df['DistanceFromHome'], sm.add_constant(df['Age'])).fit()\n",
        "Model.summary()"
      ],
      "metadata": {
        "colab": {
          "base_uri": "https://localhost:8080/",
          "height": 452
        },
        "id": "wE2Y65h1qcuZ",
        "outputId": "6011a67d-4180-4aec-b83c-5c661f41925b"
      },
      "execution_count": null,
      "outputs": [
        {
          "output_type": "execute_result",
          "data": {
            "text/plain": [
              "<class 'statsmodels.iolib.summary.Summary'>\n",
              "\"\"\"\n",
              "                            OLS Regression Results                            \n",
              "==============================================================================\n",
              "Dep. Variable:       DistanceFromHome   R-squared:                       0.000\n",
              "Model:                            OLS   Adj. R-squared:                 -0.001\n",
              "Method:                 Least Squares   F-statistic:                  0.004174\n",
              "Date:                Fri, 17 Mar 2023   Prob (F-statistic):              0.948\n",
              "Time:                        13:27:54   Log-Likelihood:                -5161.6\n",
              "No. Observations:                1470   AIC:                         1.033e+04\n",
              "Df Residuals:                    1468   BIC:                         1.034e+04\n",
              "Df Model:                           1                                         \n",
              "Covariance Type:            nonrobust                                         \n",
              "==============================================================================\n",
              "                 coef    std err          t      P>|t|      [0.025      0.975]\n",
              "------------------------------------------------------------------------------\n",
              "const          9.2478      0.881     10.497      0.000       7.520      10.976\n",
              "Age           -0.0015      0.023     -0.065      0.948      -0.047       0.044\n",
              "==============================================================================\n",
              "Omnibus:                      168.749   Durbin-Watson:                   2.000\n",
              "Prob(Omnibus):                  0.000   Jarque-Bera (JB):              227.762\n",
              "Skew:                           0.957   Prob(JB):                     3.48e-50\n",
              "Kurtosis:                       2.773   Cond. No.                         159.\n",
              "==============================================================================\n",
              "\n",
              "Notes:\n",
              "[1] Standard Errors assume that the covariance matrix of the errors is correctly specified.\n",
              "\"\"\""
            ],
            "text/html": [
              "<table class=\"simpletable\">\n",
              "<caption>OLS Regression Results</caption>\n",
              "<tr>\n",
              "  <th>Dep. Variable:</th>    <td>DistanceFromHome</td> <th>  R-squared:         </th> <td>   0.000</td> \n",
              "</tr>\n",
              "<tr>\n",
              "  <th>Model:</th>                   <td>OLS</td>       <th>  Adj. R-squared:    </th> <td>  -0.001</td> \n",
              "</tr>\n",
              "<tr>\n",
              "  <th>Method:</th>             <td>Least Squares</td>  <th>  F-statistic:       </th> <td>0.004174</td> \n",
              "</tr>\n",
              "<tr>\n",
              "  <th>Date:</th>             <td>Fri, 17 Mar 2023</td> <th>  Prob (F-statistic):</th>  <td> 0.948</td>  \n",
              "</tr>\n",
              "<tr>\n",
              "  <th>Time:</th>                 <td>13:27:54</td>     <th>  Log-Likelihood:    </th> <td> -5161.6</td> \n",
              "</tr>\n",
              "<tr>\n",
              "  <th>No. Observations:</th>      <td>  1470</td>      <th>  AIC:               </th> <td>1.033e+04</td>\n",
              "</tr>\n",
              "<tr>\n",
              "  <th>Df Residuals:</th>          <td>  1468</td>      <th>  BIC:               </th> <td>1.034e+04</td>\n",
              "</tr>\n",
              "<tr>\n",
              "  <th>Df Model:</th>              <td>     1</td>      <th>                     </th>     <td> </td>    \n",
              "</tr>\n",
              "<tr>\n",
              "  <th>Covariance Type:</th>      <td>nonrobust</td>    <th>                     </th>     <td> </td>    \n",
              "</tr>\n",
              "</table>\n",
              "<table class=\"simpletable\">\n",
              "<tr>\n",
              "    <td></td>       <th>coef</th>     <th>std err</th>      <th>t</th>      <th>P>|t|</th>  <th>[0.025</th>    <th>0.975]</th>  \n",
              "</tr>\n",
              "<tr>\n",
              "  <th>const</th> <td>    9.2478</td> <td>    0.881</td> <td>   10.497</td> <td> 0.000</td> <td>    7.520</td> <td>   10.976</td>\n",
              "</tr>\n",
              "<tr>\n",
              "  <th>Age</th>   <td>   -0.0015</td> <td>    0.023</td> <td>   -0.065</td> <td> 0.948</td> <td>   -0.047</td> <td>    0.044</td>\n",
              "</tr>\n",
              "</table>\n",
              "<table class=\"simpletable\">\n",
              "<tr>\n",
              "  <th>Omnibus:</th>       <td>168.749</td> <th>  Durbin-Watson:     </th> <td>   2.000</td>\n",
              "</tr>\n",
              "<tr>\n",
              "  <th>Prob(Omnibus):</th> <td> 0.000</td>  <th>  Jarque-Bera (JB):  </th> <td> 227.762</td>\n",
              "</tr>\n",
              "<tr>\n",
              "  <th>Skew:</th>          <td> 0.957</td>  <th>  Prob(JB):          </th> <td>3.48e-50</td>\n",
              "</tr>\n",
              "<tr>\n",
              "  <th>Kurtosis:</th>      <td> 2.773</td>  <th>  Cond. No.          </th> <td>    159.</td>\n",
              "</tr>\n",
              "</table><br/><br/>Notes:<br/>[1] Standard Errors assume that the covariance matrix of the errors is correctly specified."
            ]
          },
          "metadata": {},
          "execution_count": 5
        }
      ]
    },
    {
      "cell_type": "code",
      "source": [
        "plt.plot(df['Age'], df['DistanceFromHome'], 'ro')\n",
        "plt.plot(df['Age'], Model.fittedvalues, 'b')\n",
        "plt.legend(['Data', 'fittedModel'])\n",
        "plt.xlabel('Age')\n",
        "plt.ylabel('DistanceFromHome')"
      ],
      "metadata": {
        "colab": {
          "base_uri": "https://localhost:8080/",
          "height": 298
        },
        "id": "CyfsS_vrwV_X",
        "outputId": "ea750f31-1297-4bfc-a2f3-c71f124ec2c4"
      },
      "execution_count": null,
      "outputs": [
        {
          "output_type": "execute_result",
          "data": {
            "text/plain": [
              "Text(0, 0.5, 'DistanceFromHome')"
            ]
          },
          "metadata": {},
          "execution_count": 6
        },
        {
          "output_type": "display_data",
          "data": {
            "text/plain": [
              "<Figure size 432x288 with 1 Axes>"
            ],
            "image/png": "[encoded data removed]"
          },
          "metadata": {
            "needs_background": "light"
          }
        }
      ]
    },
    {
      "cell_type": "markdown",
      "source": [
        "Starting with the R-Squared value, which is equal to 0, represents that the model does not explain any of the variation in the response variable (DistanceFromHome) around its mean. Since the p-value is also greater than 0.05, we have to abide by the null hypothesis that there is no correlation between the two variables. Since there isn't any correlation, it won't be useful to interpret the results given to us by the constant coeffs 9.2478 and -0.0015. The gradient of the regression line is very close to 0, again suggesting that no relation exists."
      ],
      "metadata": {
        "id": "FfdN1ZYxxK-Q"
      }
    },
    {
      "cell_type": "markdown",
      "source": [
        "### Q3"
      ],
      "metadata": {
        "id": "ZekX5U-AyDPJ"
      }
    },
    {
      "cell_type": "code",
      "source": [
        "corr1 = df['MonthlyIncome'].corr(df['TotalWorkingYears'])\n",
        "corr2 = df['DistanceFromHome'].corr(df['Age'])\n",
        "print(f'Correlation For MonthlyIncome and TotalWorkingHours = {corr1}')\n",
        "print(f'Correlation For DistanceFromHome and Age = {corr2}')"
      ],
      "metadata": {
        "colab": {
          "base_uri": "https://localhost:8080/"
        },
        "id": "Zz4eteQiwphG",
        "outputId": "f6bab856-c14e-43ea-a39b-33507260e447"
      },
      "execution_count": null,
      "outputs": [
        {
          "output_type": "stream",
          "name": "stdout",
          "text": [
            "Correlation For MonthlyIncome and TotalWorkingHours = 0.7728932462543561\n",
            "Correlation For DistanceFromHome and Age = -0.0016861201480870068\n"
          ]
        }
      ]
    },
    {
      "cell_type": "markdown",
      "source": [
        "The result to the correlation values also supports what has already been identified in the answer to previous two questions. The correlation value of 0.77 suggest that there is sufficient positive correlation between the two variable (MonthlyIncome and TotalWorkingHours), i.e., both change in the same direction. For Age and DistanceFromHome, there is almost negligible negative correlation of -0.0016. The negative value suggests why we got a negative gradient value in Q2.  "
      ],
      "metadata": {
        "id": "5AVEGC3xz11O"
      }
    },
    {
      "cell_type": "markdown",
      "source": [
        "### Q4"
      ],
      "metadata": {
        "id": "q16F3Lma0jJ_"
      }
    },
    {
      "cell_type": "code",
      "source": [
        "'''\n",
        "\n",
        "We need to first identify which of the columns in the Dataframe are Categoricall.\n",
        "Once we do so, we will use hot-encoding to convert them into numerical data\n",
        "We do this in order to perform regression them. \n",
        "Regression doesn't work on categoricall columns directly.\n",
        "\n",
        "'''\n",
        "\n",
        "\n",
        "non_numeric_cols = df.select_dtypes(exclude=['int', 'float']).columns.tolist()\n",
        "non_numeric_cols"
      ],
      "metadata": {
        "colab": {
          "base_uri": "https://localhost:8080/"
        },
        "id": "NNR5b_v1zgud",
        "outputId": "242607f5-b97a-4708-f1e2-2bbf3d453430"
      },
      "execution_count": null,
      "outputs": [
        {
          "output_type": "execute_result",
          "data": {
            "text/plain": [
              "['Department',\n",
              " 'EducationField',\n",
              " 'Gender',\n",
              " 'JobRole',\n",
              " 'MaritalStatus',\n",
              " 'OverTime']"
            ]
          },
          "metadata": {},
          "execution_count": 10
        }
      ]
    },
    {
      "cell_type": "code",
      "source": [
        "df1 = pd.get_dummies(df, columns=[i for i in non_numeric_cols])\n",
        "X = df1.drop(['MonthlyIncome'],axis=1)\n",
        "Y = df1['MonthlyIncome']\n",
        "model = sm.OLS(Y,sm.add_constant(X)).fit()\n",
        "model.summary()"
      ],
      "metadata": {
        "colab": {
          "base_uri": "https://localhost:8080/",
          "height": 1000
        },
        "id": "RBLaqhEu6Csn",
        "outputId": "adfef5d3-ac31-40c5-d6d2-aeab94b1e77f"
      },
      "execution_count": null,
      "outputs": [
        {
          "output_type": "execute_result",
          "data": {
            "text/plain": [
              "<class 'statsmodels.iolib.summary.Summary'>\n",
              "\"\"\"\n",
              "                            OLS Regression Results                            \n",
              "==============================================================================\n",
              "Dep. Variable:          MonthlyIncome   R-squared:                       0.944\n",
              "Model:                            OLS   Adj. R-squared:                  0.943\n",
              "Method:                 Least Squares   F-statistic:                     715.9\n",
              "Date:                Fri, 17 Mar 2023   Prob (F-statistic):               0.00\n",
              "Time:                        14:15:52   Log-Likelihood:                -12394.\n",
              "No. Observations:                1470   AIC:                         2.486e+04\n",
              "Df Residuals:                    1435   BIC:                         2.504e+04\n",
              "Df Model:                          34                                         \n",
              "Covariance Type:            nonrobust                                         \n",
              "=====================================================================================================\n",
              "                                        coef    std err          t      P>|t|      [0.025      0.975]\n",
              "-----------------------------------------------------------------------------------------------------\n",
              "const                               364.2019    129.213      2.819      0.005     110.735     617.669\n",
              "Age                                  -5.3357      4.614     -1.156      0.248     -14.386       3.715\n",
              "DistanceFromHome                     -4.8212      3.650     -1.321      0.187     -11.981       2.339\n",
              "Education                           -11.1578     29.743     -0.375      0.708     -69.502      47.186\n",
              "HourlyRate                            1.3410      1.454      0.923      0.356      -1.511       4.193\n",
              "JobLevel                           2759.6363     67.718     40.752      0.000    2626.800    2892.473\n",
              "NumCompaniesWorked                   11.5087     13.246      0.869      0.385     -14.475      37.493\n",
              "PerformanceRating                   -29.6861     81.840     -0.363      0.717    -190.225     130.853\n",
              "StockOptionLevel                    -42.3557     47.499     -0.892      0.373    -135.530      50.818\n",
              "TotalWorkingYears                    48.0088      8.316      5.773      0.000      31.696      64.321\n",
              "TrainingTimesLastYear               -16.7479     23.135     -0.724      0.469     -62.130      28.634\n",
              "WorkLifeBalance                     -22.7978     42.025     -0.542      0.588    -105.235      59.640\n",
              "YearsAtCompany                        6.6563     10.392      0.641      0.522     -13.729      27.041\n",
              "YearsInCurrentRole                    1.2712     13.482      0.094      0.925     -25.175      27.717\n",
              "YearsSinceLastPromotion              23.3883     11.880      1.969      0.049       0.084      46.693\n",
              "YearsWithCurrManager                -34.1053     13.789     -2.473      0.013     -61.154      -7.057\n",
              "Department_Human Resources            9.7448    276.725      0.035      0.972    -533.084     552.574\n",
              "Department_Research & Development   257.1010    170.358      1.509      0.131     -77.077     591.279\n",
              "Department_Sales                     97.3561    186.808      0.521      0.602    -269.090     463.802\n",
              "EducationField_Human Resources      114.4753    242.487      0.472      0.637    -361.192     590.143\n",
              "EducationField_Life Sciences         38.6894     72.369      0.535      0.593    -103.270     180.649\n",
              "EducationField_Marketing            104.4560    110.500      0.945      0.345    -112.303     321.215\n",
              "EducationField_Medical               28.7257     76.079      0.378      0.706    -120.513     177.964\n",
              "EducationField_Other                -46.9271    120.714     -0.389      0.698    -283.722     189.868\n",
              "EducationField_Technical Degree     124.7826    102.199      1.221      0.222     -75.692     325.257\n",
              "Gender_Female                       139.3035     72.290      1.927      0.054      -2.501     281.108\n",
              "Gender_Male                         224.8984     70.391      3.195      0.001      86.818     362.979\n",
              "JobRole_Healthcare Representative  -688.0551    132.450     -5.195      0.000    -947.872    -428.239\n",
              "JobRole_Human Resources            -768.8603    352.072     -2.184      0.029   -1459.491     -78.229\n",
              "JobRole_Laboratory Technician     -1272.3236    127.561     -9.974      0.000   -1522.549   -1022.098\n",
              "JobRole_Manager                    3485.3481    158.766     21.953      0.000    3173.910    3796.786\n",
              "JobRole_Manufacturing Director     -748.5922    130.143     -5.752      0.000   -1003.882    -493.302\n",
              "JobRole_Research Director          3366.6822    178.825     18.827      0.000    3015.896    3717.469\n",
              "JobRole_Research Scientist        -1187.9080    127.234     -9.336      0.000   -1437.492    -938.324\n",
              "JobRole_Sales Executive            -601.3083    185.266     -3.246      0.001    -964.730    -237.887\n",
              "JobRole_Sales Representative      -1220.7808    215.328     -5.669      0.000   -1643.172    -798.389\n",
              "MaritalStatus_Divorced              110.9276     73.613      1.507      0.132     -33.474     255.329\n",
              "MaritalStatus_Married               162.0571     59.777      2.711      0.007      44.798     279.317\n",
              "MaritalStatus_Single                 91.2173     70.939      1.286      0.199     -47.937     230.372\n",
              "OverTime_No                         146.0099     72.018      2.027      0.043       4.739     287.281\n",
              "OverTime_Yes                        218.1920     73.000      2.989      0.003      74.993     361.391\n",
              "==============================================================================\n",
              "Omnibus:                       49.974   Durbin-Watson:                   2.048\n",
              "Prob(Omnibus):                  0.000   Jarque-Bera (JB):              100.033\n",
              "Skew:                           0.218   Prob(JB):                     1.90e-22\n",
              "Kurtosis:                       4.202   Cond. No.                     2.09e+16\n",
              "==============================================================================\n",
              "\n",
              "Notes:\n",
              "[1] Standard Errors assume that the covariance matrix of the errors is correctly specified.\n",
              "[2] The smallest eigenvalue is 2.15e-26. This might indicate that there are\n",
              "strong multicollinearity problems or that the design matrix is singular.\n",
              "\"\"\""
            ],
            "text/html": [
              "<table class=\"simpletable\">\n",
              "<caption>OLS Regression Results</caption>\n",
              "<tr>\n",
              "  <th>Dep. Variable:</th>      <td>MonthlyIncome</td>  <th>  R-squared:         </th> <td>   0.944</td> \n",
              "</tr>\n",
              "<tr>\n",
              "  <th>Model:</th>                   <td>OLS</td>       <th>  Adj. R-squared:    </th> <td>   0.943</td> \n",
              "</tr>\n",
              "<tr>\n",
              "  <th>Method:</th>             <td>Least Squares</td>  <th>  F-statistic:       </th> <td>   715.9</td> \n",
              "</tr>\n",
              "<tr>\n",
              "  <th>Date:</th>             <td>Fri, 17 Mar 2023</td> <th>  Prob (F-statistic):</th>  <td>  0.00</td>  \n",
              "</tr>\n",
              "<tr>\n",
              "  <th>Time:</th>                 <td>14:15:52</td>     <th>  Log-Likelihood:    </th> <td> -12394.</td> \n",
              "</tr>\n",
              "<tr>\n",
              "  <th>No. Observations:</th>      <td>  1470</td>      <th>  AIC:               </th> <td>2.486e+04</td>\n",
              "</tr>\n",
              "<tr>\n",
              "  <th>Df Residuals:</th>          <td>  1435</td>      <th>  BIC:               </th> <td>2.504e+04</td>\n",
              "</tr>\n",
              "<tr>\n",
              "  <th>Df Model:</th>              <td>    34</td>      <th>                     </th>     <td> </td>    \n",
              "</tr>\n",
              "<tr>\n",
              "  <th>Covariance Type:</th>      <td>nonrobust</td>    <th>                     </th>     <td> </td>    \n",
              "</tr>\n",
              "</table>\n",
              "<table class=\"simpletable\">\n",
              "<tr>\n",
              "                  <td></td>                     <th>coef</th>     <th>std err</th>      <th>t</th>      <th>P>|t|</th>  <th>[0.025</th>    <th>0.975]</th>  \n",
              "</tr>\n",
              "<tr>\n",
              "  <th>const</th>                             <td>  364.2019</td> <td>  129.213</td> <td>    2.819</td> <td> 0.005</td> <td>  110.735</td> <td>  617.669</td>\n",
              "</tr>\n",
              "<tr>\n",
              "  <th>Age</th>                               <td>   -5.3357</td> <td>    4.614</td> <td>   -1.156</td> <td> 0.248</td> <td>  -14.386</td> <td>    3.715</td>\n",
              "</tr>\n",
              "<tr>\n",
              "  <th>DistanceFromHome</th>                  <td>   -4.8212</td> <td>    3.650</td> <td>   -1.321</td> <td> 0.187</td> <td>  -11.981</td> <td>    2.339</td>\n",
              "</tr>\n",
              "<tr>\n",
              "  <th>Education</th>                         <td>  -11.1578</td> <td>   29.743</td> <td>   -0.375</td> <td> 0.708</td> <td>  -69.502</td> <td>   47.186</td>\n",
              "</tr>\n",
              "<tr>\n",
              "  <th>HourlyRate</th>                        <td>    1.3410</td> <td>    1.454</td> <td>    0.923</td> <td> 0.356</td> <td>   -1.511</td> <td>    4.193</td>\n",
              "</tr>\n",
              "<tr>\n",
              "  <th>JobLevel</th>                          <td> 2759.6363</td> <td>   67.718</td> <td>   40.752</td> <td> 0.000</td> <td> 2626.800</td> <td> 2892.473</td>\n",
              "</tr>\n",
              "<tr>\n",
              "  <th>NumCompaniesWorked</th>                <td>   11.5087</td> <td>   13.246</td> <td>    0.869</td> <td> 0.385</td> <td>  -14.475</td> <td>   37.493</td>\n",
              "</tr>\n",
              "<tr>\n",
              "  <th>PerformanceRating</th>                 <td>  -29.6861</td> <td>   81.840</td> <td>   -0.363</td> <td> 0.717</td> <td> -190.225</td> <td>  130.853</td>\n",
              "</tr>\n",
              "<tr>\n",
              "  <th>StockOptionLevel</th>                  <td>  -42.3557</td> <td>   47.499</td> <td>   -0.892</td> <td> 0.373</td> <td> -135.530</td> <td>   50.818</td>\n",
              "</tr>\n",
              "<tr>\n",
              "  <th>TotalWorkingYears</th>                 <td>   48.0088</td> <td>    8.316</td> <td>    5.773</td> <td> 0.000</td> <td>   31.696</td> <td>   64.321</td>\n",
              "</tr>\n",
              "<tr>\n",
              "  <th>TrainingTimesLastYear</th>             <td>  -16.7479</td> <td>   23.135</td> <td>   -0.724</td> <td> 0.469</td> <td>  -62.130</td> <td>   28.634</td>\n",
              "</tr>\n",
              "<tr>\n",
              "  <th>WorkLifeBalance</th>                   <td>  -22.7978</td> <td>   42.025</td> <td>   -0.542</td> <td> 0.588</td> <td> -105.235</td> <td>   59.640</td>\n",
              "</tr>\n",
              "<tr>\n",
              "  <th>YearsAtCompany</th>                    <td>    6.6563</td> <td>   10.392</td> <td>    0.641</td> <td> 0.522</td> <td>  -13.729</td> <td>   27.041</td>\n",
              "</tr>\n",
              "<tr>\n",
              "  <th>YearsInCurrentRole</th>                <td>    1.2712</td> <td>   13.482</td> <td>    0.094</td> <td> 0.925</td> <td>  -25.175</td> <td>   27.717</td>\n",
              "</tr>\n",
              "<tr>\n",
              "  <th>YearsSinceLastPromotion</th>           <td>   23.3883</td> <td>   11.880</td> <td>    1.969</td> <td> 0.049</td> <td>    0.084</td> <td>   46.693</td>\n",
              "</tr>\n",
              "<tr>\n",
              "  <th>YearsWithCurrManager</th>              <td>  -34.1053</td> <td>   13.789</td> <td>   -2.473</td> <td> 0.013</td> <td>  -61.154</td> <td>   -7.057</td>\n",
              "</tr>\n",
              "<tr>\n",
              "  <th>Department_Human Resources</th>        <td>    9.7448</td> <td>  276.725</td> <td>    0.035</td> <td> 0.972</td> <td> -533.084</td> <td>  552.574</td>\n",
              "</tr>\n",
              "<tr>\n",
              "  <th>Department_Research & Development</th> <td>  257.1010</td> <td>  170.358</td> <td>    1.509</td> <td> 0.131</td> <td>  -77.077</td> <td>  591.279</td>\n",
              "</tr>\n",
              "<tr>\n",
              "  <th>Department_Sales</th>                  <td>   97.3561</td> <td>  186.808</td> <td>    0.521</td> <td> 0.602</td> <td> -269.090</td> <td>  463.802</td>\n",
              "</tr>\n",
              "<tr>\n",
              "  <th>EducationField_Human Resources</th>    <td>  114.4753</td> <td>  242.487</td> <td>    0.472</td> <td> 0.637</td> <td> -361.192</td> <td>  590.143</td>\n",
              "</tr>\n",
              "<tr>\n",
              "  <th>EducationField_Life Sciences</th>      <td>   38.6894</td> <td>   72.369</td> <td>    0.535</td> <td> 0.593</td> <td> -103.270</td> <td>  180.649</td>\n",
              "</tr>\n",
              "<tr>\n",
              "  <th>EducationField_Marketing</th>          <td>  104.4560</td> <td>  110.500</td> <td>    0.945</td> <td> 0.345</td> <td> -112.303</td> <td>  321.215</td>\n",
              "</tr>\n",
              "<tr>\n",
              "  <th>EducationField_Medical</th>            <td>   28.7257</td> <td>   76.079</td> <td>    0.378</td> <td> 0.706</td> <td> -120.513</td> <td>  177.964</td>\n",
              "</tr>\n",
              "<tr>\n",
              "  <th>EducationField_Other</th>              <td>  -46.9271</td> <td>  120.714</td> <td>   -0.389</td> <td> 0.698</td> <td> -283.722</td> <td>  189.868</td>\n",
              "</tr>\n",
              "<tr>\n",
              "  <th>EducationField_Technical Degree</th>   <td>  124.7826</td> <td>  102.199</td> <td>    1.221</td> <td> 0.222</td> <td>  -75.692</td> <td>  325.257</td>\n",
              "</tr>\n",
              "<tr>\n",
              "  <th>Gender_Female</th>                     <td>  139.3035</td> <td>   72.290</td> <td>    1.927</td> <td> 0.054</td> <td>   -2.501</td> <td>  281.108</td>\n",
              "</tr>\n",
              "<tr>\n",
              "  <th>Gender_Male</th>                       <td>  224.8984</td> <td>   70.391</td> <td>    3.195</td> <td> 0.001</td> <td>   86.818</td> <td>  362.979</td>\n",
              "</tr>\n",
              "<tr>\n",
              "  <th>JobRole_Healthcare Representative</th> <td> -688.0551</td> <td>  132.450</td> <td>   -5.195</td> <td> 0.000</td> <td> -947.872</td> <td> -428.239</td>\n",
              "</tr>\n",
              "<tr>\n",
              "  <th>JobRole_Human Resources</th>           <td> -768.8603</td> <td>  352.072</td> <td>   -2.184</td> <td> 0.029</td> <td>-1459.491</td> <td>  -78.229</td>\n",
              "</tr>\n",
              "<tr>\n",
              "  <th>JobRole_Laboratory Technician</th>     <td>-1272.3236</td> <td>  127.561</td> <td>   -9.974</td> <td> 0.000</td> <td>-1522.549</td> <td>-1022.098</td>\n",
              "</tr>\n",
              "<tr>\n",
              "  <th>JobRole_Manager</th>                   <td> 3485.3481</td> <td>  158.766</td> <td>   21.953</td> <td> 0.000</td> <td> 3173.910</td> <td> 3796.786</td>\n",
              "</tr>\n",
              "<tr>\n",
              "  <th>JobRole_Manufacturing Director</th>    <td> -748.5922</td> <td>  130.143</td> <td>   -5.752</td> <td> 0.000</td> <td>-1003.882</td> <td> -493.302</td>\n",
              "</tr>\n",
              "<tr>\n",
              "  <th>JobRole_Research Director</th>         <td> 3366.6822</td> <td>  178.825</td> <td>   18.827</td> <td> 0.000</td> <td> 3015.896</td> <td> 3717.469</td>\n",
              "</tr>\n",
              "<tr>\n",
              "  <th>JobRole_Research Scientist</th>        <td>-1187.9080</td> <td>  127.234</td> <td>   -9.336</td> <td> 0.000</td> <td>-1437.492</td> <td> -938.324</td>\n",
              "</tr>\n",
              "<tr>\n",
              "  <th>JobRole_Sales Executive</th>           <td> -601.3083</td> <td>  185.266</td> <td>   -3.246</td> <td> 0.001</td> <td> -964.730</td> <td> -237.887</td>\n",
              "</tr>\n",
              "<tr>\n",
              "  <th>JobRole_Sales Representative</th>      <td>-1220.7808</td> <td>  215.328</td> <td>   -5.669</td> <td> 0.000</td> <td>-1643.172</td> <td> -798.389</td>\n",
              "</tr>\n",
              "<tr>\n",
              "  <th>MaritalStatus_Divorced</th>            <td>  110.9276</td> <td>   73.613</td> <td>    1.507</td> <td> 0.132</td> <td>  -33.474</td> <td>  255.329</td>\n",
              "</tr>\n",
              "<tr>\n",
              "  <th>MaritalStatus_Married</th>             <td>  162.0571</td> <td>   59.777</td> <td>    2.711</td> <td> 0.007</td> <td>   44.798</td> <td>  279.317</td>\n",
              "</tr>\n",
              "<tr>\n",
              "  <th>MaritalStatus_Single</th>              <td>   91.2173</td> <td>   70.939</td> <td>    1.286</td> <td> 0.199</td> <td>  -47.937</td> <td>  230.372</td>\n",
              "</tr>\n",
              "<tr>\n",
              "  <th>OverTime_No</th>                       <td>  146.0099</td> <td>   72.018</td> <td>    2.027</td> <td> 0.043</td> <td>    4.739</td> <td>  287.281</td>\n",
              "</tr>\n",
              "<tr>\n",
              "  <th>OverTime_Yes</th>                      <td>  218.1920</td> <td>   73.000</td> <td>    2.989</td> <td> 0.003</td> <td>   74.993</td> <td>  361.391</td>\n",
              "</tr>\n",
              "</table>\n",
              "<table class=\"simpletable\">\n",
              "<tr>\n",
              "  <th>Omnibus:</th>       <td>49.974</td> <th>  Durbin-Watson:     </th> <td>   2.048</td>\n",
              "</tr>\n",
              "<tr>\n",
              "  <th>Prob(Omnibus):</th> <td> 0.000</td> <th>  Jarque-Bera (JB):  </th> <td> 100.033</td>\n",
              "</tr>\n",
              "<tr>\n",
              "  <th>Skew:</th>          <td> 0.218</td> <th>  Prob(JB):          </th> <td>1.90e-22</td>\n",
              "</tr>\n",
              "<tr>\n",
              "  <th>Kurtosis:</th>      <td> 4.202</td> <th>  Cond. No.          </th> <td>2.09e+16</td>\n",
              "</tr>\n",
              "</table><br/><br/>Notes:<br/>[1] Standard Errors assume that the covariance matrix of the errors is correctly specified.<br/>[2] The smallest eigenvalue is 2.15e-26. This might indicate that there are<br/>strong multicollinearity problems or that the design matrix is singular."
            ]
          },
          "metadata": {},
          "execution_count": 12
        }
      ]
    },
    {
      "cell_type": "markdown",
      "source": [
        "Based on the R-Squared value, the model seems to be quite effective and claims to cater almost 95% (94.4%) of variability in the data. Based on the p-values of different variables, the following three are most significant variables:\n",
        "\n",
        "\n",
        "1.   JobLevel\n",
        "2.   TotalWorkingYears\n",
        "3.   JobRoles\n",
        "\n",
        "Since almost all of the JobRoles have p-value less than 0.05, I would claim that the third most significant input should be JobRoles.\n",
        "\n",
        "The following three seems to be the least significant inputs:\n",
        "\n",
        "\n",
        "1.   YearsInCurrentRole\n",
        "2.   PerformanceRating\n",
        "3.   Department\n",
        "\n",
        "Since almost all of the Departments have p-value way greater than 0.05, I would claim that the third least significant input should be Department.\n",
        "\n",
        "\n",
        "\n",
        "\n"
      ],
      "metadata": {
        "id": "7_0zJACF8hh4"
      }
    },
    {
      "cell_type": "code",
      "source": [
        "newInput = pd.DataFrame({\n",
        "    'Age': [23], \n",
        "    'Department': ['Research & Development'],\n",
        "    'DistanceFromHome': [20],\n",
        "    'Education': [4],\n",
        "    'EducationField': ['Life Sciences'],\n",
        "    'Gender': ['Male'],\n",
        "    'HourlyRate': [80],\n",
        "    'JobLevel': [3],\n",
        "    'JobRole': ['Research Scientist'],\n",
        "    'MaritalStatus': ['Single'],\n",
        "    'NumCompaniesWorked': [2],\n",
        "    'OverTime': ['No'],\n",
        "    'PerformanceRating': [3],\n",
        "    'StockOptionLevel': [0],\n",
        "    'TotalWorkingYears': [2],\n",
        "    'TrainingTimesLastYear': [3],\n",
        "    'WorkLifeBalance': [3],\n",
        "    'YearsAtCompany': [2],\n",
        "    'YearsInCurrentRole': [2],\n",
        "    'YearsSinceLastPromotion': [0],\n",
        "    'YearsWithCurrManager': [2]\n",
        "    })\n",
        "\n",
        "newInput = pd.concat([df, newInput], ignore_index=True)\n",
        "newInput = newInput.drop(['MonthlyIncome'], axis=1)\n",
        "df2 = pd.get_dummies(newInput, columns=[i for i in non_numeric_cols])\n",
        "df2 = sm.add_constant(df2)\n",
        "newInput = df2.tail(1)\n",
        "model.predict(newInput)"
      ],
      "metadata": {
        "colab": {
          "base_uri": "https://localhost:8080/"
        },
        "id": "3LAWASJL679u",
        "outputId": "aa2edd43-5405-4996-b645-2a31f5523642"
      },
      "execution_count": null,
      "outputs": [
        {
          "output_type": "execute_result",
          "data": {
            "text/plain": [
              "1470    7915.606534\n",
              "dtype: float64"
            ]
          },
          "metadata": {},
          "execution_count": 13
        }
      ]
    },
    {
      "cell_type": "markdown",
      "source": [
        "The predicted MonthlyIncome for the given input using this model is 7915"
      ],
      "metadata": {
        "id": "zEwbYOpbD08g"
      }
    },
    {
      "cell_type": "markdown",
      "source": [
        "### Q5"
      ],
      "metadata": {
        "id": "c29LAO4XD6OY"
      }
    },
    {
      "cell_type": "code",
      "source": [
        "df3 = pd.get_dummies(df, columns=[i for i in non_numeric_cols])\n",
        "X = df3.drop(['HourlyRate'],axis=1)\n",
        "Y = df3['HourlyRate']\n",
        "model = sm.OLS(Y,sm.add_constant(X)).fit()\n",
        "model.summary()"
      ],
      "metadata": {
        "colab": {
          "base_uri": "https://localhost:8080/",
          "height": 1000
        },
        "id": "gyI3c7OPDt2Q",
        "outputId": "b2178aa3-6e42-49d4-b8dc-f552d5f87960"
      },
      "execution_count": null,
      "outputs": [
        {
          "output_type": "execute_result",
          "data": {
            "text/plain": [
              "<class 'statsmodels.iolib.summary.Summary'>\n",
              "\"\"\"\n",
              "                            OLS Regression Results                            \n",
              "==============================================================================\n",
              "Dep. Variable:             HourlyRate   R-squared:                       0.016\n",
              "Model:                            OLS   Adj. R-squared:                 -0.007\n",
              "Method:                 Least Squares   F-statistic:                    0.6846\n",
              "Date:                Fri, 17 Mar 2023   Prob (F-statistic):              0.916\n",
              "Time:                        14:54:56   Log-Likelihood:                -6501.3\n",
              "No. Observations:                1470   AIC:                         1.307e+04\n",
              "Df Residuals:                    1435   BIC:                         1.326e+04\n",
              "Df Model:                          34                                         \n",
              "Covariance Type:            nonrobust                                         \n",
              "=====================================================================================================\n",
              "                                        coef    std err          t      P>|t|      [0.025      0.975]\n",
              "-----------------------------------------------------------------------------------------------------\n",
              "const                                21.8033      2.281      9.560      0.000      17.329      26.277\n",
              "Age                                   0.0632      0.084      0.754      0.451      -0.101       0.228\n",
              "DistanceFromHome                      0.0797      0.066      1.203      0.229      -0.050       0.210\n",
              "Education                             0.2087      0.540      0.386      0.699      -0.851       1.268\n",
              "JobLevel                             -3.1841      1.804     -1.765      0.078      -6.722       0.354\n",
              "NumCompaniesWorked                    0.1083      0.241      0.450      0.653      -0.364       0.580\n",
              "PerformanceRating                    -0.3151      1.486     -0.212      0.832      -3.230       2.599\n",
              "StockOptionLevel                      1.4108      0.862      1.637      0.102      -0.280       3.101\n",
              "TotalWorkingYears                     0.0492      0.153      0.322      0.747      -0.250       0.349\n",
              "TrainingTimesLastYear                -0.0827      0.420     -0.197      0.844      -0.907       0.741\n",
              "WorkLifeBalance                       0.1144      0.763      0.150      0.881      -1.382       1.611\n",
              "YearsAtCompany                        0.0478      0.189      0.253      0.800      -0.322       0.418\n",
              "YearsInCurrentRole                   -0.1133      0.245     -0.463      0.643      -0.593       0.367\n",
              "YearsSinceLastPromotion              -0.1686      0.216     -0.781      0.435      -0.592       0.255\n",
              "YearsWithCurrManager                 -0.0090      0.251     -0.036      0.972      -0.501       0.483\n",
              "MonthlyIncome                         0.0004      0.000      0.923      0.356      -0.000       0.001\n",
              "Department_Human Resources            7.7458      5.020      1.543      0.123      -2.101      17.592\n",
              "Department_Research & Development     6.3040      3.091      2.040      0.042       0.241      12.367\n",
              "Department_Sales                      7.7535      3.386      2.290      0.022       1.112      14.395\n",
              "EducationField_Human Resources       -1.5980      4.402     -0.363      0.717     -10.234       7.038\n",
              "EducationField_Life Sciences          5.9413      1.305      4.554      0.000       3.382       8.500\n",
              "EducationField_Marketing              5.6866      2.001      2.842      0.005       1.761       9.612\n",
              "EducationField_Medical                4.2543      1.377      3.090      0.002       1.554       6.955\n",
              "EducationField_Other                  1.6687      2.191      0.762      0.446      -2.630       5.967\n",
              "EducationField_Technical Degree       5.8505      1.850      3.163      0.002       2.222       9.479\n",
              "Gender_Female                        10.9132      1.282      8.512      0.000       8.398      13.428\n",
              "Gender_Male                          10.8901      1.250      8.713      0.000       8.438      13.342\n",
              "JobRole_Healthcare Representative     4.4668      2.424      1.843      0.066      -0.289       9.222\n",
              "JobRole_Human Resources               1.7867      6.402      0.279      0.780     -10.772      14.345\n",
              "JobRole_Laboratory Technician         2.8286      2.394      1.182      0.238      -1.867       7.524\n",
              "JobRole_Manager                       5.0691      3.329      1.523      0.128      -1.460      11.599\n",
              "JobRole_Manufacturing Director        2.7039      2.389      1.132      0.258      -1.982       7.390\n",
              "JobRole_Research Director             1.8802      3.625      0.519      0.604      -5.231       8.991\n",
              "JobRole_Research Scientist            2.6847      2.378      1.129      0.259      -1.980       7.349\n",
              "JobRole_Sales Executive               1.3700      3.376      0.406      0.685      -5.251       7.992\n",
              "JobRole_Sales Representative         -0.9867      3.953     -0.250      0.803      -8.740       6.767\n",
              "MaritalStatus_Divorced                6.2656      1.327      4.721      0.000       3.662       8.869\n",
              "MaritalStatus_Married                 7.9803      1.067      7.476      0.000       5.886      10.074\n",
              "MaritalStatus_Single                  7.5574      1.273      5.936      0.000       5.060      10.055\n",
              "OverTime_No                          11.0801      1.276      8.682      0.000       8.577      13.584\n",
              "OverTime_Yes                         10.7232      1.299      8.256      0.000       8.175      13.271\n",
              "==============================================================================\n",
              "Omnibus:                      786.106   Durbin-Watson:                   2.007\n",
              "Prob(Omnibus):                  0.000   Jarque-Bera (JB):               81.277\n",
              "Skew:                          -0.024   Prob(JB):                     2.24e-18\n",
              "Kurtosis:                       1.849   Cond. No.                     2.08e+16\n",
              "==============================================================================\n",
              "\n",
              "Notes:\n",
              "[1] Standard Errors assume that the covariance matrix of the errors is correctly specified.\n",
              "[2] The smallest eigenvalue is 2.2e-22. This might indicate that there are\n",
              "strong multicollinearity problems or that the design matrix is singular.\n",
              "\"\"\""
            ],
            "text/html": [
              "<table class=\"simpletable\">\n",
              "<caption>OLS Regression Results</caption>\n",
              "<tr>\n",
              "  <th>Dep. Variable:</th>       <td>HourlyRate</td>    <th>  R-squared:         </th> <td>   0.016</td> \n",
              "</tr>\n",
              "<tr>\n",
              "  <th>Model:</th>                   <td>OLS</td>       <th>  Adj. R-squared:    </th> <td>  -0.007</td> \n",
              "</tr>\n",
              "<tr>\n",
              "  <th>Method:</th>             <td>Least Squares</td>  <th>  F-statistic:       </th> <td>  0.6846</td> \n",
              "</tr>\n",
              "<tr>\n",
              "  <th>Date:</th>             <td>Fri, 17 Mar 2023</td> <th>  Prob (F-statistic):</th>  <td> 0.916</td>  \n",
              "</tr>\n",
              "<tr>\n",
              "  <th>Time:</th>                 <td>14:54:56</td>     <th>  Log-Likelihood:    </th> <td> -6501.3</td> \n",
              "</tr>\n",
              "<tr>\n",
              "  <th>No. Observations:</th>      <td>  1470</td>      <th>  AIC:               </th> <td>1.307e+04</td>\n",
              "</tr>\n",
              "<tr>\n",
              "  <th>Df Residuals:</th>          <td>  1435</td>      <th>  BIC:               </th> <td>1.326e+04</td>\n",
              "</tr>\n",
              "<tr>\n",
              "  <th>Df Model:</th>              <td>    34</td>      <th>                     </th>     <td> </td>    \n",
              "</tr>\n",
              "<tr>\n",
              "  <th>Covariance Type:</th>      <td>nonrobust</td>    <th>                     </th>     <td> </td>    \n",
              "</tr>\n",
              "</table>\n",
              "<table class=\"simpletable\">\n",
              "<tr>\n",
              "                  <td></td>                     <th>coef</th>     <th>std err</th>      <th>t</th>      <th>P>|t|</th>  <th>[0.025</th>    <th>0.975]</th>  \n",
              "</tr>\n",
              "<tr>\n",
              "  <th>const</th>                             <td>   21.8033</td> <td>    2.281</td> <td>    9.560</td> <td> 0.000</td> <td>   17.329</td> <td>   26.277</td>\n",
              "</tr>\n",
              "<tr>\n",
              "  <th>Age</th>                               <td>    0.0632</td> <td>    0.084</td> <td>    0.754</td> <td> 0.451</td> <td>   -0.101</td> <td>    0.228</td>\n",
              "</tr>\n",
              "<tr>\n",
              "  <th>DistanceFromHome</th>                  <td>    0.0797</td> <td>    0.066</td> <td>    1.203</td> <td> 0.229</td> <td>   -0.050</td> <td>    0.210</td>\n",
              "</tr>\n",
              "<tr>\n",
              "  <th>Education</th>                         <td>    0.2087</td> <td>    0.540</td> <td>    0.386</td> <td> 0.699</td> <td>   -0.851</td> <td>    1.268</td>\n",
              "</tr>\n",
              "<tr>\n",
              "  <th>JobLevel</th>                          <td>   -3.1841</td> <td>    1.804</td> <td>   -1.765</td> <td> 0.078</td> <td>   -6.722</td> <td>    0.354</td>\n",
              "</tr>\n",
              "<tr>\n",
              "  <th>NumCompaniesWorked</th>                <td>    0.1083</td> <td>    0.241</td> <td>    0.450</td> <td> 0.653</td> <td>   -0.364</td> <td>    0.580</td>\n",
              "</tr>\n",
              "<tr>\n",
              "  <th>PerformanceRating</th>                 <td>   -0.3151</td> <td>    1.486</td> <td>   -0.212</td> <td> 0.832</td> <td>   -3.230</td> <td>    2.599</td>\n",
              "</tr>\n",
              "<tr>\n",
              "  <th>StockOptionLevel</th>                  <td>    1.4108</td> <td>    0.862</td> <td>    1.637</td> <td> 0.102</td> <td>   -0.280</td> <td>    3.101</td>\n",
              "</tr>\n",
              "<tr>\n",
              "  <th>TotalWorkingYears</th>                 <td>    0.0492</td> <td>    0.153</td> <td>    0.322</td> <td> 0.747</td> <td>   -0.250</td> <td>    0.349</td>\n",
              "</tr>\n",
              "<tr>\n",
              "  <th>TrainingTimesLastYear</th>             <td>   -0.0827</td> <td>    0.420</td> <td>   -0.197</td> <td> 0.844</td> <td>   -0.907</td> <td>    0.741</td>\n",
              "</tr>\n",
              "<tr>\n",
              "  <th>WorkLifeBalance</th>                   <td>    0.1144</td> <td>    0.763</td> <td>    0.150</td> <td> 0.881</td> <td>   -1.382</td> <td>    1.611</td>\n",
              "</tr>\n",
              "<tr>\n",
              "  <th>YearsAtCompany</th>                    <td>    0.0478</td> <td>    0.189</td> <td>    0.253</td> <td> 0.800</td> <td>   -0.322</td> <td>    0.418</td>\n",
              "</tr>\n",
              "<tr>\n",
              "  <th>YearsInCurrentRole</th>                <td>   -0.1133</td> <td>    0.245</td> <td>   -0.463</td> <td> 0.643</td> <td>   -0.593</td> <td>    0.367</td>\n",
              "</tr>\n",
              "<tr>\n",
              "  <th>YearsSinceLastPromotion</th>           <td>   -0.1686</td> <td>    0.216</td> <td>   -0.781</td> <td> 0.435</td> <td>   -0.592</td> <td>    0.255</td>\n",
              "</tr>\n",
              "<tr>\n",
              "  <th>YearsWithCurrManager</th>              <td>   -0.0090</td> <td>    0.251</td> <td>   -0.036</td> <td> 0.972</td> <td>   -0.501</td> <td>    0.483</td>\n",
              "</tr>\n",
              "<tr>\n",
              "  <th>MonthlyIncome</th>                     <td>    0.0004</td> <td>    0.000</td> <td>    0.923</td> <td> 0.356</td> <td>   -0.000</td> <td>    0.001</td>\n",
              "</tr>\n",
              "<tr>\n",
              "  <th>Department_Human Resources</th>        <td>    7.7458</td> <td>    5.020</td> <td>    1.543</td> <td> 0.123</td> <td>   -2.101</td> <td>   17.592</td>\n",
              "</tr>\n",
              "<tr>\n",
              "  <th>Department_Research & Development</th> <td>    6.3040</td> <td>    3.091</td> <td>    2.040</td> <td> 0.042</td> <td>    0.241</td> <td>   12.367</td>\n",
              "</tr>\n",
              "<tr>\n",
              "  <th>Department_Sales</th>                  <td>    7.7535</td> <td>    3.386</td> <td>    2.290</td> <td> 0.022</td> <td>    1.112</td> <td>   14.395</td>\n",
              "</tr>\n",
              "<tr>\n",
              "  <th>EducationField_Human Resources</th>    <td>   -1.5980</td> <td>    4.402</td> <td>   -0.363</td> <td> 0.717</td> <td>  -10.234</td> <td>    7.038</td>\n",
              "</tr>\n",
              "<tr>\n",
              "  <th>EducationField_Life Sciences</th>      <td>    5.9413</td> <td>    1.305</td> <td>    4.554</td> <td> 0.000</td> <td>    3.382</td> <td>    8.500</td>\n",
              "</tr>\n",
              "<tr>\n",
              "  <th>EducationField_Marketing</th>          <td>    5.6866</td> <td>    2.001</td> <td>    2.842</td> <td> 0.005</td> <td>    1.761</td> <td>    9.612</td>\n",
              "</tr>\n",
              "<tr>\n",
              "  <th>EducationField_Medical</th>            <td>    4.2543</td> <td>    1.377</td> <td>    3.090</td> <td> 0.002</td> <td>    1.554</td> <td>    6.955</td>\n",
              "</tr>\n",
              "<tr>\n",
              "  <th>EducationField_Other</th>              <td>    1.6687</td> <td>    2.191</td> <td>    0.762</td> <td> 0.446</td> <td>   -2.630</td> <td>    5.967</td>\n",
              "</tr>\n",
              "<tr>\n",
              "  <th>EducationField_Technical Degree</th>   <td>    5.8505</td> <td>    1.850</td> <td>    3.163</td> <td> 0.002</td> <td>    2.222</td> <td>    9.479</td>\n",
              "</tr>\n",
              "<tr>\n",
              "  <th>Gender_Female</th>                     <td>   10.9132</td> <td>    1.282</td> <td>    8.512</td> <td> 0.000</td> <td>    8.398</td> <td>   13.428</td>\n",
              "</tr>\n",
              "<tr>\n",
              "  <th>Gender_Male</th>                       <td>   10.8901</td> <td>    1.250</td> <td>    8.713</td> <td> 0.000</td> <td>    8.438</td> <td>   13.342</td>\n",
              "</tr>\n",
              "<tr>\n",
              "  <th>JobRole_Healthcare Representative</th> <td>    4.4668</td> <td>    2.424</td> <td>    1.843</td> <td> 0.066</td> <td>   -0.289</td> <td>    9.222</td>\n",
              "</tr>\n",
              "<tr>\n",
              "  <th>JobRole_Human Resources</th>           <td>    1.7867</td> <td>    6.402</td> <td>    0.279</td> <td> 0.780</td> <td>  -10.772</td> <td>   14.345</td>\n",
              "</tr>\n",
              "<tr>\n",
              "  <th>JobRole_Laboratory Technician</th>     <td>    2.8286</td> <td>    2.394</td> <td>    1.182</td> <td> 0.238</td> <td>   -1.867</td> <td>    7.524</td>\n",
              "</tr>\n",
              "<tr>\n",
              "  <th>JobRole_Manager</th>                   <td>    5.0691</td> <td>    3.329</td> <td>    1.523</td> <td> 0.128</td> <td>   -1.460</td> <td>   11.599</td>\n",
              "</tr>\n",
              "<tr>\n",
              "  <th>JobRole_Manufacturing Director</th>    <td>    2.7039</td> <td>    2.389</td> <td>    1.132</td> <td> 0.258</td> <td>   -1.982</td> <td>    7.390</td>\n",
              "</tr>\n",
              "<tr>\n",
              "  <th>JobRole_Research Director</th>         <td>    1.8802</td> <td>    3.625</td> <td>    0.519</td> <td> 0.604</td> <td>   -5.231</td> <td>    8.991</td>\n",
              "</tr>\n",
              "<tr>\n",
              "  <th>JobRole_Research Scientist</th>        <td>    2.6847</td> <td>    2.378</td> <td>    1.129</td> <td> 0.259</td> <td>   -1.980</td> <td>    7.349</td>\n",
              "</tr>\n",
              "<tr>\n",
              "  <th>JobRole_Sales Executive</th>           <td>    1.3700</td> <td>    3.376</td> <td>    0.406</td> <td> 0.685</td> <td>   -5.251</td> <td>    7.992</td>\n",
              "</tr>\n",
              "<tr>\n",
              "  <th>JobRole_Sales Representative</th>      <td>   -0.9867</td> <td>    3.953</td> <td>   -0.250</td> <td> 0.803</td> <td>   -8.740</td> <td>    6.767</td>\n",
              "</tr>\n",
              "<tr>\n",
              "  <th>MaritalStatus_Divorced</th>            <td>    6.2656</td> <td>    1.327</td> <td>    4.721</td> <td> 0.000</td> <td>    3.662</td> <td>    8.869</td>\n",
              "</tr>\n",
              "<tr>\n",
              "  <th>MaritalStatus_Married</th>             <td>    7.9803</td> <td>    1.067</td> <td>    7.476</td> <td> 0.000</td> <td>    5.886</td> <td>   10.074</td>\n",
              "</tr>\n",
              "<tr>\n",
              "  <th>MaritalStatus_Single</th>              <td>    7.5574</td> <td>    1.273</td> <td>    5.936</td> <td> 0.000</td> <td>    5.060</td> <td>   10.055</td>\n",
              "</tr>\n",
              "<tr>\n",
              "  <th>OverTime_No</th>                       <td>   11.0801</td> <td>    1.276</td> <td>    8.682</td> <td> 0.000</td> <td>    8.577</td> <td>   13.584</td>\n",
              "</tr>\n",
              "<tr>\n",
              "  <th>OverTime_Yes</th>                      <td>   10.7232</td> <td>    1.299</td> <td>    8.256</td> <td> 0.000</td> <td>    8.175</td> <td>   13.271</td>\n",
              "</tr>\n",
              "</table>\n",
              "<table class=\"simpletable\">\n",
              "<tr>\n",
              "  <th>Omnibus:</th>       <td>786.106</td> <th>  Durbin-Watson:     </th> <td>   2.007</td>\n",
              "</tr>\n",
              "<tr>\n",
              "  <th>Prob(Omnibus):</th> <td> 0.000</td>  <th>  Jarque-Bera (JB):  </th> <td>  81.277</td>\n",
              "</tr>\n",
              "<tr>\n",
              "  <th>Skew:</th>          <td>-0.024</td>  <th>  Prob(JB):          </th> <td>2.24e-18</td>\n",
              "</tr>\n",
              "<tr>\n",
              "  <th>Kurtosis:</th>      <td> 1.849</td>  <th>  Cond. No.          </th> <td>2.08e+16</td>\n",
              "</tr>\n",
              "</table><br/><br/>Notes:<br/>[1] Standard Errors assume that the covariance matrix of the errors is correctly specified.<br/>[2] The smallest eigenvalue is 2.2e-22. This might indicate that there are<br/>strong multicollinearity problems or that the design matrix is singular."
            ]
          },
          "metadata": {},
          "execution_count": 14
        }
      ]
    },
    {
      "cell_type": "markdown",
      "source": [
        "Since the R-Squared value is almost near to 0, this is not a good model as it fails to account for almost 98.4% of variability in the data. Based on the p-values, the following three are the most significant inputs:\n",
        "\n",
        "\n",
        "1.   Gender\n",
        "2.   Maritial Status\n",
        "3.   OverTime\n",
        "\n",
        "Eventhough, after hot-encoding all three of the above mentioned columns were divided into multiple sub-columns, all sub parts have p-value of 0. Hence, I chose to go with these three inputs as being the most significant ones.\n",
        "\n",
        "The following three are the least significant inputs:\n",
        "\n",
        "\n",
        "1.   YearsWithCurrManager\n",
        "2.   WorkLifeBalance\n",
        "3.   TrainingTimesLastYear\n",
        "\n",
        "\n",
        "\n"
      ],
      "metadata": {
        "id": "3wOFJ4VDE4hC"
      }
    },
    {
      "cell_type": "code",
      "source": [
        "'''\n",
        "\n",
        "Using the same values to check the model as used before. I've place the MonthlyIncome = 7915 as it was predicted by the previous model.\n",
        "The value of HourlyRate should be closer to 80 if this model works as expected.\n",
        "\n",
        "'''\n",
        "\n",
        "newInput = pd.DataFrame({\n",
        "    'Age': [23], \n",
        "    'Department': ['Research & Development'],\n",
        "    'DistanceFromHome': [20],\n",
        "    'Education': [4],\n",
        "    'EducationField': ['Life Sciences'],\n",
        "    'Gender': ['Male'],\n",
        "    'JobLevel': [3],\n",
        "    'JobRole': ['Research Scientist'],\n",
        "    'MaritalStatus': ['Single'],\n",
        "    'NumCompaniesWorked': [2],\n",
        "    'OverTime': ['No'],\n",
        "    'PerformanceRating': [3],\n",
        "    'StockOptionLevel': [0],\n",
        "    'TotalWorkingYears': [2],\n",
        "    'TrainingTimesLastYear': [3],\n",
        "    'WorkLifeBalance': [3],\n",
        "    'YearsAtCompany': [2],\n",
        "    'YearsInCurrentRole': [2],\n",
        "    'YearsSinceLastPromotion': [0],\n",
        "    'YearsWithCurrManager': [2],\n",
        "    'MonthlyIncome' : [7915]\n",
        "    })\n",
        "\n",
        "\n",
        "newInput = pd.concat([df, newInput], ignore_index=True)\n",
        "newInput = newInput.drop(['HourlyRate'], axis=1)\n",
        "df4 = pd.get_dummies(newInput, columns=[i for i in non_numeric_cols])\n",
        "df4 = sm.add_constant(df4)\n",
        "newInput = df4.tail(1)\n",
        "model.predict(newInput)\n"
      ],
      "metadata": {
        "colab": {
          "base_uri": "https://localhost:8080/"
        },
        "id": "t1jcRyokEQ0A",
        "outputId": "0e783dcb-5b56-47d4-c138-bcab9c85b97d"
      },
      "execution_count": null,
      "outputs": [
        {
          "output_type": "execute_result",
          "data": {
            "text/plain": [
              "1470    63.404303\n",
              "dtype: float64"
            ]
          },
          "metadata": {},
          "execution_count": 15
        }
      ]
    },
    {
      "cell_type": "markdown",
      "source": [
        "The Predicted Value for HourlyRate came out to be equal to 63. While it is still somewhat close to what shoudl have come (80), this is not a good prediction."
      ],
      "metadata": {
        "id": "zh59XZZoH-2Y"
      }
    },
    {
      "cell_type": "markdown",
      "source": [
        "### Q6"
      ],
      "metadata": {
        "id": "8ywNzZHKIJfp"
      }
    },
    {
      "cell_type": "code",
      "source": [
        "'''\n",
        "\n",
        "The three selected inputs were JobLevel, TotalWorkingYears and JobRole. I've included all hot-encoded columns for JobRole here.\n",
        "\n",
        "'''\n",
        "\n",
        "df_selected = df1[[\"JobLevel\", \"TotalWorkingYears\", \"JobRole_Healthcare Representative\", \n",
        "                   \"JobRole_Human Resources\", \"JobRole_Laboratory Technician\", \"JobRole_Manager\", \n",
        "                   \"JobRole_Manufacturing Director\", \"JobRole_Research Director\", \"JobRole_Research Scientist\", \n",
        "                   \"JobRole_Sales Executive\", \"JobRole_Sales Representative\"]]\n",
        "X = df_selected\n",
        "Y = df1['MonthlyIncome']\n",
        "\n",
        "model = sm.OLS(Y,sm.add_constant(X)).fit()\n",
        "model.summary()"
      ],
      "metadata": {
        "colab": {
          "base_uri": "https://localhost:8080/",
          "height": 700
        },
        "id": "ziVowQhSH8qF",
        "outputId": "dd83b31a-0c58-47c3-ed9f-b0579418c238"
      },
      "execution_count": null,
      "outputs": [
        {
          "output_type": "execute_result",
          "data": {
            "text/plain": [
              "<class 'statsmodels.iolib.summary.Summary'>\n",
              "\"\"\"\n",
              "                            OLS Regression Results                            \n",
              "==============================================================================\n",
              "Dep. Variable:          MonthlyIncome   R-squared:                       0.943\n",
              "Model:                            OLS   Adj. R-squared:                  0.943\n",
              "Method:                 Least Squares   F-statistic:                     2434.\n",
              "Date:                Fri, 17 Mar 2023   Prob (F-statistic):               0.00\n",
              "Time:                        16:43:12   Log-Likelihood:                -12406.\n",
              "No. Observations:                1470   AIC:                         2.483e+04\n",
              "Df Residuals:                    1459   BIC:                         2.489e+04\n",
              "Df Model:                          10                                         \n",
              "Covariance Type:            nonrobust                                         \n",
              "=====================================================================================================\n",
              "                                        coef    std err          t      P>|t|      [0.025      0.975]\n",
              "-----------------------------------------------------------------------------------------------------\n",
              "const                               650.7952    115.041      5.657      0.000     425.131     876.459\n",
              "JobLevel                           2770.3438     66.712     41.527      0.000    2639.481    2901.206\n",
              "TotalWorkingYears                    43.7428      6.243      7.007      0.000      31.496      55.989\n",
              "JobRole_Healthcare Representative  -589.2785     95.948     -6.142      0.000    -777.490    -401.067\n",
              "JobRole_Human Resources            -874.7981    146.171     -5.985      0.000   -1161.526    -588.071\n",
              "JobRole_Laboratory Technician     -1182.0511     83.040    -14.235      0.000   -1344.942   -1019.160\n",
              "JobRole_Manager                    3533.6967    159.597     22.141      0.000    3220.633    3846.760\n",
              "JobRole_Manufacturing Director     -697.5272     91.850     -7.594      0.000    -877.699    -517.356\n",
              "JobRole_Research Director          3434.5429    156.134     21.997      0.000    3128.273    3740.813\n",
              "JobRole_Research Scientist        -1078.4361     81.698    -13.200      0.000   -1238.695    -918.177\n",
              "JobRole_Sales Executive            -662.0867     66.629     -9.937      0.000    -792.786    -531.388\n",
              "JobRole_Sales Representative      -1233.2667    125.934     -9.793      0.000   -1480.298    -986.236\n",
              "==============================================================================\n",
              "Omnibus:                       45.881   Durbin-Watson:                   2.060\n",
              "Prob(Omnibus):                  0.000   Jarque-Bera (JB):               89.325\n",
              "Skew:                           0.204   Prob(JB):                     4.01e-20\n",
              "Kurtosis:                       4.137   Cond. No.                     3.00e+16\n",
              "==============================================================================\n",
              "\n",
              "Notes:\n",
              "[1] Standard Errors assume that the covariance matrix of the errors is correctly specified.\n",
              "[2] The smallest eigenvalue is 3.16e-28. This might indicate that there are\n",
              "strong multicollinearity problems or that the design matrix is singular.\n",
              "\"\"\""
            ],
            "text/html": [
              "<table class=\"simpletable\">\n",
              "<caption>OLS Regression Results</caption>\n",
              "<tr>\n",
              "  <th>Dep. Variable:</th>      <td>MonthlyIncome</td>  <th>  R-squared:         </th> <td>   0.943</td> \n",
              "</tr>\n",
              "<tr>\n",
              "  <th>Model:</th>                   <td>OLS</td>       <th>  Adj. R-squared:    </th> <td>   0.943</td> \n",
              "</tr>\n",
              "<tr>\n",
              "  <th>Method:</th>             <td>Least Squares</td>  <th>  F-statistic:       </th> <td>   2434.</td> \n",
              "</tr>\n",
              "<tr>\n",
              "  <th>Date:</th>             <td>Fri, 17 Mar 2023</td> <th>  Prob (F-statistic):</th>  <td>  0.00</td>  \n",
              "</tr>\n",
              "<tr>\n",
              "  <th>Time:</th>                 <td>16:43:12</td>     <th>  Log-Likelihood:    </th> <td> -12406.</td> \n",
              "</tr>\n",
              "<tr>\n",
              "  <th>No. Observations:</th>      <td>  1470</td>      <th>  AIC:               </th> <td>2.483e+04</td>\n",
              "</tr>\n",
              "<tr>\n",
              "  <th>Df Residuals:</th>          <td>  1459</td>      <th>  BIC:               </th> <td>2.489e+04</td>\n",
              "</tr>\n",
              "<tr>\n",
              "  <th>Df Model:</th>              <td>    10</td>      <th>                     </th>     <td> </td>    \n",
              "</tr>\n",
              "<tr>\n",
              "  <th>Covariance Type:</th>      <td>nonrobust</td>    <th>                     </th>     <td> </td>    \n",
              "</tr>\n",
              "</table>\n",
              "<table class=\"simpletable\">\n",
              "<tr>\n",
              "                  <td></td>                     <th>coef</th>     <th>std err</th>      <th>t</th>      <th>P>|t|</th>  <th>[0.025</th>    <th>0.975]</th>  \n",
              "</tr>\n",
              "<tr>\n",
              "  <th>const</th>                             <td>  650.7952</td> <td>  115.041</td> <td>    5.657</td> <td> 0.000</td> <td>  425.131</td> <td>  876.459</td>\n",
              "</tr>\n",
              "<tr>\n",
              "  <th>JobLevel</th>                          <td> 2770.3438</td> <td>   66.712</td> <td>   41.527</td> <td> 0.000</td> <td> 2639.481</td> <td> 2901.206</td>\n",
              "</tr>\n",
              "<tr>\n",
              "  <th>TotalWorkingYears</th>                 <td>   43.7428</td> <td>    6.243</td> <td>    7.007</td> <td> 0.000</td> <td>   31.496</td> <td>   55.989</td>\n",
              "</tr>\n",
              "<tr>\n",
              "  <th>JobRole_Healthcare Representative</th> <td> -589.2785</td> <td>   95.948</td> <td>   -6.142</td> <td> 0.000</td> <td> -777.490</td> <td> -401.067</td>\n",
              "</tr>\n",
              "<tr>\n",
              "  <th>JobRole_Human Resources</th>           <td> -874.7981</td> <td>  146.171</td> <td>   -5.985</td> <td> 0.000</td> <td>-1161.526</td> <td> -588.071</td>\n",
              "</tr>\n",
              "<tr>\n",
              "  <th>JobRole_Laboratory Technician</th>     <td>-1182.0511</td> <td>   83.040</td> <td>  -14.235</td> <td> 0.000</td> <td>-1344.942</td> <td>-1019.160</td>\n",
              "</tr>\n",
              "<tr>\n",
              "  <th>JobRole_Manager</th>                   <td> 3533.6967</td> <td>  159.597</td> <td>   22.141</td> <td> 0.000</td> <td> 3220.633</td> <td> 3846.760</td>\n",
              "</tr>\n",
              "<tr>\n",
              "  <th>JobRole_Manufacturing Director</th>    <td> -697.5272</td> <td>   91.850</td> <td>   -7.594</td> <td> 0.000</td> <td> -877.699</td> <td> -517.356</td>\n",
              "</tr>\n",
              "<tr>\n",
              "  <th>JobRole_Research Director</th>         <td> 3434.5429</td> <td>  156.134</td> <td>   21.997</td> <td> 0.000</td> <td> 3128.273</td> <td> 3740.813</td>\n",
              "</tr>\n",
              "<tr>\n",
              "  <th>JobRole_Research Scientist</th>        <td>-1078.4361</td> <td>   81.698</td> <td>  -13.200</td> <td> 0.000</td> <td>-1238.695</td> <td> -918.177</td>\n",
              "</tr>\n",
              "<tr>\n",
              "  <th>JobRole_Sales Executive</th>           <td> -662.0867</td> <td>   66.629</td> <td>   -9.937</td> <td> 0.000</td> <td> -792.786</td> <td> -531.388</td>\n",
              "</tr>\n",
              "<tr>\n",
              "  <th>JobRole_Sales Representative</th>      <td>-1233.2667</td> <td>  125.934</td> <td>   -9.793</td> <td> 0.000</td> <td>-1480.298</td> <td> -986.236</td>\n",
              "</tr>\n",
              "</table>\n",
              "<table class=\"simpletable\">\n",
              "<tr>\n",
              "  <th>Omnibus:</th>       <td>45.881</td> <th>  Durbin-Watson:     </th> <td>   2.060</td>\n",
              "</tr>\n",
              "<tr>\n",
              "  <th>Prob(Omnibus):</th> <td> 0.000</td> <th>  Jarque-Bera (JB):  </th> <td>  89.325</td>\n",
              "</tr>\n",
              "<tr>\n",
              "  <th>Skew:</th>          <td> 0.204</td> <th>  Prob(JB):          </th> <td>4.01e-20</td>\n",
              "</tr>\n",
              "<tr>\n",
              "  <th>Kurtosis:</th>      <td> 4.137</td> <th>  Cond. No.          </th> <td>3.00e+16</td>\n",
              "</tr>\n",
              "</table><br/><br/>Notes:<br/>[1] Standard Errors assume that the covariance matrix of the errors is correctly specified.<br/>[2] The smallest eigenvalue is 3.16e-28. This might indicate that there are<br/>strong multicollinearity problems or that the design matrix is singular."
            ]
          },
          "metadata": {},
          "execution_count": 51
        }
      ]
    },
    {
      "cell_type": "markdown",
      "source": [
        "Using all inputs resulted in a prediction model with R-Squared value of 0.944, meaning that it accounts for 94.4% of variability of the data values. However, using only three of all the inputs, the model still gives us R-Squared of 0.943 or accounts for 94.3% of variability of our data. I'd say that it is more efficient to make use of this model as it predicts value based on most effective and statistically significant inputs."
      ],
      "metadata": {
        "id": "2q75hUoTNeaF"
      }
    },
    {
      "cell_type": "markdown",
      "source": [
        "### Q7"
      ],
      "metadata": {
        "id": "aidn5kobOx6H"
      }
    },
    {
      "cell_type": "code",
      "source": [
        "'''\n",
        "\n",
        "For the two new records, I am manually adding the vlaues for the hot-encoded values of JobRoles.\n",
        "\n",
        "'''\n",
        "\n",
        "recordOne = pd.DataFrame({\n",
        "    'Age': [50], \n",
        "    'Department': ['Sales'],\n",
        "    'DistanceFromHome': [20],\n",
        "    'Education': [3],\n",
        "    'EducationField': ['Marketing'],\n",
        "    'Gender': ['Female'],\n",
        "    'HourlyRate': [90],\n",
        "    'JobLevel': [7],\n",
        "    # 'JobRole': ['Marketing Director'],\n",
        "    \"JobRole_Healthcare Representative\": [0],\n",
        "    \"JobRole_Human Resources\" : [0],\n",
        "    \"JobRole_Laboratory Technician\" : [0],\n",
        "    \"JobRole_Manager\" : [0],\n",
        "    \"JobRole_Manufacturing Director\" : [1],\n",
        "    \"JobRole_Research Director\" : [0],\n",
        "    \"JobRole_Research Scientist\" : [0],\n",
        "    \"JobRole_Sales Executive\" : [0],\n",
        "    \"JobRole_Sales Representative\" : [0],\n",
        "    'MaritalStatus': ['Married'],\n",
        "    'NumCompaniesWorked': [8],\n",
        "    'OverTime': ['Yes'],\n",
        "    'PerformanceRating': [3],\n",
        "    'StockOptionLevel': [2],\n",
        "    'TotalWorkingYears': [30],\n",
        "    'TrainingTimesLastYear': [2],\n",
        "    'WorkLifeBalance': [3],\n",
        "    'YearsAtCompany': [30],\n",
        "    'YearsInCurrentRole': [1],\n",
        "    'YearsSinceLastPromotion': [1],\n",
        "    'YearsWithCurrManager': [5]\n",
        "    })\n",
        "\n",
        "recordTwo = pd.DataFrame({\n",
        "    'Age': [23], \n",
        "    'Department': ['Research & Development'],\n",
        "    'DistanceFromHome': [10],\n",
        "    'Education': [4],\n",
        "    'EducationField': ['Marketing'],\n",
        "    'Gender': ['Male'],\n",
        "    'HourlyRate': [90],\n",
        "    'JobLevel': [3],\n",
        "    # 'JobRole' : ['Manufacturing Director'],\n",
        "    \"JobRole_Healthcare Representative\": [0],\n",
        "    \"JobRole_Human Resources\" : [0],\n",
        "    \"JobRole_Laboratory Technician\" : [0],\n",
        "    \"JobRole_Manager\" : [0],\n",
        "    \"JobRole_Manufacturing Director\" : [1],\n",
        "    \"JobRole_Research Director\" : [0],\n",
        "    \"JobRole_Research Scientist\" : [0],\n",
        "    \"JobRole_Sales Executive\" : [0],\n",
        "    \"JobRole_Sales Representative\" : [0],\n",
        "    'MaritalStatus': ['Married'],\n",
        "    'NumCompaniesWorked': [4],\n",
        "    'OverTime': ['Yes'],\n",
        "    'PerformanceRating': [2],\n",
        "    'StockOptionLevel': [0],\n",
        "    'TotalWorkingYears': [3],\n",
        "    'TrainingTimesLastYear': [1],\n",
        "    'WorkLifeBalance': [3],\n",
        "    'YearsAtCompany': [3],\n",
        "    'YearsInCurrentRole': [1],\n",
        "    'YearsSinceLastPromotion': [1],\n",
        "    'YearsWithCurrManager': [3],\n",
        "    })\n",
        "\n",
        "X = pd.concat([recordTwo, recordOne], ignore_index = True)\n",
        "\n",
        "\n",
        "\n",
        "X = X[[\"JobLevel\", \"TotalWorkingYears\", \"JobRole_Healthcare Representative\", \n",
        "       \"JobRole_Human Resources\", \"JobRole_Laboratory Technician\", \"JobRole_Manager\", \n",
        "       \"JobRole_Manufacturing Director\", \"JobRole_Research Director\", \"JobRole_Research Scientist\", \n",
        "       \"JobRole_Sales Executive\", \"JobRole_Sales Representative\"]]\n",
        "X=sm.add_constant(X,has_constant='add')\n",
        "\n",
        "predictions = model.predict(X)\n",
        "print(predictions)"
      ],
      "metadata": {
        "colab": {
          "base_uri": "https://localhost:8080/"
        },
        "id": "tTYuaccoMDCT",
        "outputId": "88964b6e-4ecb-4a78-ce9f-36a8b2c67af0"
      },
      "execution_count": null,
      "outputs": [
        {
          "output_type": "stream",
          "name": "stdout",
          "text": [
            "0     8395.527652\n",
            "1    20657.957666\n",
            "dtype: float64\n"
          ]
        }
      ]
    },
    {
      "cell_type": "markdown",
      "source": [
        "The result achieved through prediction for the two cases makes sense as for recordOne (Output = 1), we get the MonthlyIncome of 20,657 and for recordTwo we get the value for 8395. This difference of values was expected as recordOne had a greater JobLevel than that of recordTwo. Both have the same Job Role of Manufacturing Director. The first record also had greater TotalWorkingYears hence accounting for the difference in the result."
      ],
      "metadata": {
        "id": "_WaoEmFgwwHJ"
      }
    },
    {
      "cell_type": "code",
      "source": [],
      "metadata": {
        "id": "kIhh_KNUQxuJ"
      },
      "execution_count": null,
      "outputs": []
    }
  ]
}